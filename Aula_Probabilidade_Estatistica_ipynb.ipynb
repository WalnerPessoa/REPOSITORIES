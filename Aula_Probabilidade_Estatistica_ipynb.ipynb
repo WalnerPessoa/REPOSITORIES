{
  "nbformat": 4,
  "nbformat_minor": 0,
  "metadata": {
    "colab": {
      "name": "Aula_Probabilidade_Estatistica_ipynb",
      "provenance": [],
      "collapsed_sections": [],
      "include_colab_link": true
    },
    "kernelspec": {
      "name": "python3",
      "display_name": "Python 3"
    }
  },
  "cells": [
    {
      "cell_type": "markdown",
      "metadata": {
        "id": "view-in-github",
        "colab_type": "text"
      },
      "source": [
        "<a href=\"https://colab.research.google.com/github/WalnerPessoa/REPOSITORIES/blob/master/Aula_Probabilidade_Estatistica_ipynb.ipynb\" target=\"_parent\"><img src=\"https://colab.research.google.com/assets/colab-badge.svg\" alt=\"Open In Colab\"/></a>"
      ]
    },
    {
      "cell_type": "code",
      "metadata": {
        "id": "ZRRrXg3QXXae",
        "colab_type": "code",
        "colab": {}
      },
      "source": [
        "# Code to read csv file into Colaboratory:\n",
        "!pip install -U -q PyDrive\n",
        "from pydrive.auth import GoogleAuth\n",
        "from pydrive.drive import GoogleDrive\n",
        "from google.colab import auth\n",
        "from oauth2client.client import GoogleCredentials\n",
        "# Authenticate and create the PyDrive client.\n",
        "auth.authenticate_user()\n",
        "gauth = GoogleAuth()\n",
        "gauth.credentials = GoogleCredentials.get_application_default()\n",
        "drive = GoogleDrive(gauth)\n"
      ],
      "execution_count": 0,
      "outputs": []
    },
    {
      "cell_type": "code",
      "metadata": {
        "id": "RiUgeYZhW0-V",
        "colab_type": "code",
        "colab": {}
      },
      "source": [
        "link = 'https://drive.google.com/open?id=11Va4HMDZat-TrWw3AHXL4yMGnpr8WDFz'"
      ],
      "execution_count": 0,
      "outputs": []
    },
    {
      "cell_type": "code",
      "metadata": {
        "id": "A8r94UuWZZth",
        "colab_type": "code",
        "outputId": "d5bcaed6-c767-478f-bda5-70e9bb72b4a3",
        "colab": {
          "base_uri": "https://localhost:8080/",
          "height": 35
        }
      },
      "source": [
        "fluff, id = link.split('=')\n",
        "print (id) # Verify that you have everything after '='"
      ],
      "execution_count": 0,
      "outputs": [
        {
          "output_type": "stream",
          "text": [
            "11Va4HMDZat-TrWw3AHXL4yMGnpr8WDFz\n"
          ],
          "name": "stdout"
        }
      ]
    },
    {
      "cell_type": "code",
      "metadata": {
        "id": "9oKPtiu5Wkun",
        "colab_type": "code",
        "colab": {}
      },
      "source": [
        "import pandas as pd\n",
        "import glob\n",
        "from functools import reduce\n",
        "import matplotlib.pyplot as plt\n",
        "import seaborn as sns\n",
        "import numpy as np\n",
        "from scipy import stats\n",
        "import scipy.stats \n",
        "import scipy as sp\n"
      ],
      "execution_count": 0,
      "outputs": []
    },
    {
      "cell_type": "markdown",
      "metadata": {
        "id": "OZLvKlf4mwr7",
        "colab_type": "text"
      },
      "source": [
        "## Estatística Exploratória\n",
        "\n"
      ]
    },
    {
      "cell_type": "code",
      "metadata": {
        "id": "BsKLXRMxZaxB",
        "colab_type": "code",
        "colab": {}
      },
      "source": [
        "downloaded = drive.CreateFile({'id':id}) \n",
        "downloaded.GetContentFile('Filename.csv')  \n",
        "df = pd.read_csv('Filename.csv')\n",
        "# Dataset is now stored in a Pandas Dataframe"
      ],
      "execution_count": 0,
      "outputs": []
    },
    {
      "cell_type": "markdown",
      "metadata": {
        "id": "jfCsF2DgnQMx",
        "colab_type": "text"
      },
      "source": [
        "## Variáveis qualitativas x Variáveis quantitativas"
      ]
    },
    {
      "cell_type": "code",
      "metadata": {
        "id": "qVWEf7GHZl7h",
        "colab_type": "code",
        "outputId": "f6d13c02-7091-4965-d59b-bb344ec3ba91",
        "colab": {
          "base_uri": "https://localhost:8080/",
          "height": 489
        }
      },
      "source": [
        "df.head(5)"
      ],
      "execution_count": 0,
      "outputs": [
        {
          "output_type": "execute_result",
          "data": {
            "text/html": [
              "<div>\n",
              "<style scoped>\n",
              "    .dataframe tbody tr th:only-of-type {\n",
              "        vertical-align: middle;\n",
              "    }\n",
              "\n",
              "    .dataframe tbody tr th {\n",
              "        vertical-align: top;\n",
              "    }\n",
              "\n",
              "    .dataframe thead th {\n",
              "        text-align: right;\n",
              "    }\n",
              "</style>\n",
              "<table border=\"1\" class=\"dataframe\">\n",
              "  <thead>\n",
              "    <tr style=\"text-align: right;\">\n",
              "      <th></th>\n",
              "      <th>sofifa_id</th>\n",
              "      <th>player_url</th>\n",
              "      <th>short_name</th>\n",
              "      <th>long_name</th>\n",
              "      <th>age</th>\n",
              "      <th>dob</th>\n",
              "      <th>height_cm</th>\n",
              "      <th>weight_kg</th>\n",
              "      <th>nationality</th>\n",
              "      <th>club</th>\n",
              "      <th>overall</th>\n",
              "      <th>potential</th>\n",
              "      <th>value_eur</th>\n",
              "      <th>wage_eur</th>\n",
              "      <th>player_positions</th>\n",
              "      <th>preferred_foot</th>\n",
              "      <th>international_reputation</th>\n",
              "      <th>weak_foot</th>\n",
              "      <th>skill_moves</th>\n",
              "      <th>work_rate</th>\n",
              "      <th>body_type</th>\n",
              "      <th>real_face</th>\n",
              "      <th>release_clause_eur</th>\n",
              "      <th>player_tags</th>\n",
              "      <th>team_position</th>\n",
              "      <th>team_jersey_number</th>\n",
              "      <th>loaned_from</th>\n",
              "      <th>joined</th>\n",
              "      <th>contract_valid_until</th>\n",
              "      <th>nation_position</th>\n",
              "      <th>nation_jersey_number</th>\n",
              "      <th>pace</th>\n",
              "      <th>shooting</th>\n",
              "      <th>passing</th>\n",
              "      <th>dribbling</th>\n",
              "      <th>defending</th>\n",
              "      <th>physic</th>\n",
              "      <th>gk_diving</th>\n",
              "      <th>gk_handling</th>\n",
              "      <th>gk_kicking</th>\n",
              "      <th>...</th>\n",
              "      <th>mentality_aggression</th>\n",
              "      <th>mentality_interceptions</th>\n",
              "      <th>mentality_positioning</th>\n",
              "      <th>mentality_vision</th>\n",
              "      <th>mentality_penalties</th>\n",
              "      <th>mentality_composure</th>\n",
              "      <th>defending_marking</th>\n",
              "      <th>defending_standing_tackle</th>\n",
              "      <th>defending_sliding_tackle</th>\n",
              "      <th>goalkeeping_diving</th>\n",
              "      <th>goalkeeping_handling</th>\n",
              "      <th>goalkeeping_kicking</th>\n",
              "      <th>goalkeeping_positioning</th>\n",
              "      <th>goalkeeping_reflexes</th>\n",
              "      <th>ls</th>\n",
              "      <th>st</th>\n",
              "      <th>rs</th>\n",
              "      <th>lw</th>\n",
              "      <th>lf</th>\n",
              "      <th>cf</th>\n",
              "      <th>rf</th>\n",
              "      <th>rw</th>\n",
              "      <th>lam</th>\n",
              "      <th>cam</th>\n",
              "      <th>ram</th>\n",
              "      <th>lm</th>\n",
              "      <th>lcm</th>\n",
              "      <th>cm</th>\n",
              "      <th>rcm</th>\n",
              "      <th>rm</th>\n",
              "      <th>lwb</th>\n",
              "      <th>ldm</th>\n",
              "      <th>cdm</th>\n",
              "      <th>rdm</th>\n",
              "      <th>rwb</th>\n",
              "      <th>lb</th>\n",
              "      <th>lcb</th>\n",
              "      <th>cb</th>\n",
              "      <th>rcb</th>\n",
              "      <th>rb</th>\n",
              "    </tr>\n",
              "  </thead>\n",
              "  <tbody>\n",
              "    <tr>\n",
              "      <th>0</th>\n",
              "      <td>158023</td>\n",
              "      <td>https://sofifa.com/player/158023/lionel-messi/...</td>\n",
              "      <td>L. Messi</td>\n",
              "      <td>Lionel Andrés Messi Cuccittini</td>\n",
              "      <td>32</td>\n",
              "      <td>1987-06-24</td>\n",
              "      <td>170</td>\n",
              "      <td>72</td>\n",
              "      <td>Argentina</td>\n",
              "      <td>FC Barcelona</td>\n",
              "      <td>94</td>\n",
              "      <td>94</td>\n",
              "      <td>95500000</td>\n",
              "      <td>565000</td>\n",
              "      <td>RW, CF, ST</td>\n",
              "      <td>Left</td>\n",
              "      <td>5</td>\n",
              "      <td>4</td>\n",
              "      <td>4</td>\n",
              "      <td>Medium/Low</td>\n",
              "      <td>Messi</td>\n",
              "      <td>Yes</td>\n",
              "      <td>195800000.0</td>\n",
              "      <td>#Dribbler, #Distance Shooter, #Crosser, #FK Sp...</td>\n",
              "      <td>RW</td>\n",
              "      <td>10.0</td>\n",
              "      <td>NaN</td>\n",
              "      <td>2004-07-01</td>\n",
              "      <td>2021.0</td>\n",
              "      <td>NaN</td>\n",
              "      <td>NaN</td>\n",
              "      <td>87.0</td>\n",
              "      <td>92.0</td>\n",
              "      <td>92.0</td>\n",
              "      <td>96.0</td>\n",
              "      <td>39.0</td>\n",
              "      <td>66.0</td>\n",
              "      <td>NaN</td>\n",
              "      <td>NaN</td>\n",
              "      <td>NaN</td>\n",
              "      <td>...</td>\n",
              "      <td>48</td>\n",
              "      <td>40</td>\n",
              "      <td>94</td>\n",
              "      <td>94</td>\n",
              "      <td>75</td>\n",
              "      <td>96</td>\n",
              "      <td>33</td>\n",
              "      <td>37</td>\n",
              "      <td>26</td>\n",
              "      <td>6</td>\n",
              "      <td>11</td>\n",
              "      <td>15</td>\n",
              "      <td>14</td>\n",
              "      <td>8</td>\n",
              "      <td>89+2</td>\n",
              "      <td>89+2</td>\n",
              "      <td>89+2</td>\n",
              "      <td>93+2</td>\n",
              "      <td>93+2</td>\n",
              "      <td>93+2</td>\n",
              "      <td>93+2</td>\n",
              "      <td>93+2</td>\n",
              "      <td>93+2</td>\n",
              "      <td>93+2</td>\n",
              "      <td>93+2</td>\n",
              "      <td>92+2</td>\n",
              "      <td>87+2</td>\n",
              "      <td>87+2</td>\n",
              "      <td>87+2</td>\n",
              "      <td>92+2</td>\n",
              "      <td>68+2</td>\n",
              "      <td>66+2</td>\n",
              "      <td>66+2</td>\n",
              "      <td>66+2</td>\n",
              "      <td>68+2</td>\n",
              "      <td>63+2</td>\n",
              "      <td>52+2</td>\n",
              "      <td>52+2</td>\n",
              "      <td>52+2</td>\n",
              "      <td>63+2</td>\n",
              "    </tr>\n",
              "    <tr>\n",
              "      <th>1</th>\n",
              "      <td>20801</td>\n",
              "      <td>https://sofifa.com/player/20801/c-ronaldo-dos-...</td>\n",
              "      <td>Cristiano Ronaldo</td>\n",
              "      <td>Cristiano Ronaldo dos Santos Aveiro</td>\n",
              "      <td>34</td>\n",
              "      <td>1985-02-05</td>\n",
              "      <td>187</td>\n",
              "      <td>83</td>\n",
              "      <td>Portugal</td>\n",
              "      <td>Juventus</td>\n",
              "      <td>93</td>\n",
              "      <td>93</td>\n",
              "      <td>58500000</td>\n",
              "      <td>405000</td>\n",
              "      <td>ST, LW</td>\n",
              "      <td>Right</td>\n",
              "      <td>5</td>\n",
              "      <td>4</td>\n",
              "      <td>5</td>\n",
              "      <td>High/Low</td>\n",
              "      <td>C. Ronaldo</td>\n",
              "      <td>Yes</td>\n",
              "      <td>96500000.0</td>\n",
              "      <td>#Speedster, #Dribbler, #Distance Shooter, #Acr...</td>\n",
              "      <td>LW</td>\n",
              "      <td>7.0</td>\n",
              "      <td>NaN</td>\n",
              "      <td>2018-07-10</td>\n",
              "      <td>2022.0</td>\n",
              "      <td>LS</td>\n",
              "      <td>7.0</td>\n",
              "      <td>90.0</td>\n",
              "      <td>93.0</td>\n",
              "      <td>82.0</td>\n",
              "      <td>89.0</td>\n",
              "      <td>35.0</td>\n",
              "      <td>78.0</td>\n",
              "      <td>NaN</td>\n",
              "      <td>NaN</td>\n",
              "      <td>NaN</td>\n",
              "      <td>...</td>\n",
              "      <td>63</td>\n",
              "      <td>29</td>\n",
              "      <td>95</td>\n",
              "      <td>82</td>\n",
              "      <td>85</td>\n",
              "      <td>95</td>\n",
              "      <td>28</td>\n",
              "      <td>32</td>\n",
              "      <td>24</td>\n",
              "      <td>7</td>\n",
              "      <td>11</td>\n",
              "      <td>15</td>\n",
              "      <td>14</td>\n",
              "      <td>11</td>\n",
              "      <td>91+3</td>\n",
              "      <td>91+3</td>\n",
              "      <td>91+3</td>\n",
              "      <td>89+3</td>\n",
              "      <td>90+3</td>\n",
              "      <td>90+3</td>\n",
              "      <td>90+3</td>\n",
              "      <td>89+3</td>\n",
              "      <td>88+3</td>\n",
              "      <td>88+3</td>\n",
              "      <td>88+3</td>\n",
              "      <td>88+3</td>\n",
              "      <td>81+3</td>\n",
              "      <td>81+3</td>\n",
              "      <td>81+3</td>\n",
              "      <td>88+3</td>\n",
              "      <td>65+3</td>\n",
              "      <td>61+3</td>\n",
              "      <td>61+3</td>\n",
              "      <td>61+3</td>\n",
              "      <td>65+3</td>\n",
              "      <td>61+3</td>\n",
              "      <td>53+3</td>\n",
              "      <td>53+3</td>\n",
              "      <td>53+3</td>\n",
              "      <td>61+3</td>\n",
              "    </tr>\n",
              "    <tr>\n",
              "      <th>2</th>\n",
              "      <td>190871</td>\n",
              "      <td>https://sofifa.com/player/190871/neymar-da-sil...</td>\n",
              "      <td>Neymar Jr</td>\n",
              "      <td>Neymar da Silva Santos Junior</td>\n",
              "      <td>27</td>\n",
              "      <td>1992-02-05</td>\n",
              "      <td>175</td>\n",
              "      <td>68</td>\n",
              "      <td>Brazil</td>\n",
              "      <td>Paris Saint-Germain</td>\n",
              "      <td>92</td>\n",
              "      <td>92</td>\n",
              "      <td>105500000</td>\n",
              "      <td>290000</td>\n",
              "      <td>LW, CAM</td>\n",
              "      <td>Right</td>\n",
              "      <td>5</td>\n",
              "      <td>5</td>\n",
              "      <td>5</td>\n",
              "      <td>High/Medium</td>\n",
              "      <td>Neymar</td>\n",
              "      <td>Yes</td>\n",
              "      <td>195200000.0</td>\n",
              "      <td>#Speedster, #Dribbler, #Playmaker  , #Crosser,...</td>\n",
              "      <td>CAM</td>\n",
              "      <td>10.0</td>\n",
              "      <td>NaN</td>\n",
              "      <td>2017-08-03</td>\n",
              "      <td>2022.0</td>\n",
              "      <td>LW</td>\n",
              "      <td>10.0</td>\n",
              "      <td>91.0</td>\n",
              "      <td>85.0</td>\n",
              "      <td>87.0</td>\n",
              "      <td>95.0</td>\n",
              "      <td>32.0</td>\n",
              "      <td>58.0</td>\n",
              "      <td>NaN</td>\n",
              "      <td>NaN</td>\n",
              "      <td>NaN</td>\n",
              "      <td>...</td>\n",
              "      <td>51</td>\n",
              "      <td>36</td>\n",
              "      <td>87</td>\n",
              "      <td>90</td>\n",
              "      <td>90</td>\n",
              "      <td>94</td>\n",
              "      <td>27</td>\n",
              "      <td>26</td>\n",
              "      <td>29</td>\n",
              "      <td>9</td>\n",
              "      <td>9</td>\n",
              "      <td>15</td>\n",
              "      <td>15</td>\n",
              "      <td>11</td>\n",
              "      <td>84+3</td>\n",
              "      <td>84+3</td>\n",
              "      <td>84+3</td>\n",
              "      <td>90+3</td>\n",
              "      <td>89+3</td>\n",
              "      <td>89+3</td>\n",
              "      <td>89+3</td>\n",
              "      <td>90+3</td>\n",
              "      <td>90+3</td>\n",
              "      <td>90+3</td>\n",
              "      <td>90+3</td>\n",
              "      <td>89+3</td>\n",
              "      <td>82+3</td>\n",
              "      <td>82+3</td>\n",
              "      <td>82+3</td>\n",
              "      <td>89+3</td>\n",
              "      <td>66+3</td>\n",
              "      <td>61+3</td>\n",
              "      <td>61+3</td>\n",
              "      <td>61+3</td>\n",
              "      <td>66+3</td>\n",
              "      <td>61+3</td>\n",
              "      <td>46+3</td>\n",
              "      <td>46+3</td>\n",
              "      <td>46+3</td>\n",
              "      <td>61+3</td>\n",
              "    </tr>\n",
              "    <tr>\n",
              "      <th>3</th>\n",
              "      <td>200389</td>\n",
              "      <td>https://sofifa.com/player/200389/jan-oblak/20/...</td>\n",
              "      <td>J. Oblak</td>\n",
              "      <td>Jan Oblak</td>\n",
              "      <td>26</td>\n",
              "      <td>1993-01-07</td>\n",
              "      <td>188</td>\n",
              "      <td>87</td>\n",
              "      <td>Slovenia</td>\n",
              "      <td>Atlético Madrid</td>\n",
              "      <td>91</td>\n",
              "      <td>93</td>\n",
              "      <td>77500000</td>\n",
              "      <td>125000</td>\n",
              "      <td>GK</td>\n",
              "      <td>Right</td>\n",
              "      <td>3</td>\n",
              "      <td>3</td>\n",
              "      <td>1</td>\n",
              "      <td>Medium/Medium</td>\n",
              "      <td>Normal</td>\n",
              "      <td>Yes</td>\n",
              "      <td>164700000.0</td>\n",
              "      <td>NaN</td>\n",
              "      <td>GK</td>\n",
              "      <td>13.0</td>\n",
              "      <td>NaN</td>\n",
              "      <td>2014-07-16</td>\n",
              "      <td>2023.0</td>\n",
              "      <td>GK</td>\n",
              "      <td>1.0</td>\n",
              "      <td>NaN</td>\n",
              "      <td>NaN</td>\n",
              "      <td>NaN</td>\n",
              "      <td>NaN</td>\n",
              "      <td>NaN</td>\n",
              "      <td>NaN</td>\n",
              "      <td>87.0</td>\n",
              "      <td>92.0</td>\n",
              "      <td>78.0</td>\n",
              "      <td>...</td>\n",
              "      <td>34</td>\n",
              "      <td>19</td>\n",
              "      <td>11</td>\n",
              "      <td>65</td>\n",
              "      <td>11</td>\n",
              "      <td>68</td>\n",
              "      <td>27</td>\n",
              "      <td>12</td>\n",
              "      <td>18</td>\n",
              "      <td>87</td>\n",
              "      <td>92</td>\n",
              "      <td>78</td>\n",
              "      <td>90</td>\n",
              "      <td>89</td>\n",
              "      <td>NaN</td>\n",
              "      <td>NaN</td>\n",
              "      <td>NaN</td>\n",
              "      <td>NaN</td>\n",
              "      <td>NaN</td>\n",
              "      <td>NaN</td>\n",
              "      <td>NaN</td>\n",
              "      <td>NaN</td>\n",
              "      <td>NaN</td>\n",
              "      <td>NaN</td>\n",
              "      <td>NaN</td>\n",
              "      <td>NaN</td>\n",
              "      <td>NaN</td>\n",
              "      <td>NaN</td>\n",
              "      <td>NaN</td>\n",
              "      <td>NaN</td>\n",
              "      <td>NaN</td>\n",
              "      <td>NaN</td>\n",
              "      <td>NaN</td>\n",
              "      <td>NaN</td>\n",
              "      <td>NaN</td>\n",
              "      <td>NaN</td>\n",
              "      <td>NaN</td>\n",
              "      <td>NaN</td>\n",
              "      <td>NaN</td>\n",
              "      <td>NaN</td>\n",
              "    </tr>\n",
              "    <tr>\n",
              "      <th>4</th>\n",
              "      <td>183277</td>\n",
              "      <td>https://sofifa.com/player/183277/eden-hazard/2...</td>\n",
              "      <td>E. Hazard</td>\n",
              "      <td>Eden Hazard</td>\n",
              "      <td>28</td>\n",
              "      <td>1991-01-07</td>\n",
              "      <td>175</td>\n",
              "      <td>74</td>\n",
              "      <td>Belgium</td>\n",
              "      <td>Real Madrid</td>\n",
              "      <td>91</td>\n",
              "      <td>91</td>\n",
              "      <td>90000000</td>\n",
              "      <td>470000</td>\n",
              "      <td>LW, CF</td>\n",
              "      <td>Right</td>\n",
              "      <td>4</td>\n",
              "      <td>4</td>\n",
              "      <td>4</td>\n",
              "      <td>High/Medium</td>\n",
              "      <td>Normal</td>\n",
              "      <td>Yes</td>\n",
              "      <td>184500000.0</td>\n",
              "      <td>#Speedster, #Dribbler, #Acrobat</td>\n",
              "      <td>LW</td>\n",
              "      <td>7.0</td>\n",
              "      <td>NaN</td>\n",
              "      <td>2019-07-01</td>\n",
              "      <td>2024.0</td>\n",
              "      <td>LF</td>\n",
              "      <td>10.0</td>\n",
              "      <td>91.0</td>\n",
              "      <td>83.0</td>\n",
              "      <td>86.0</td>\n",
              "      <td>94.0</td>\n",
              "      <td>35.0</td>\n",
              "      <td>66.0</td>\n",
              "      <td>NaN</td>\n",
              "      <td>NaN</td>\n",
              "      <td>NaN</td>\n",
              "      <td>...</td>\n",
              "      <td>54</td>\n",
              "      <td>41</td>\n",
              "      <td>87</td>\n",
              "      <td>89</td>\n",
              "      <td>88</td>\n",
              "      <td>91</td>\n",
              "      <td>34</td>\n",
              "      <td>27</td>\n",
              "      <td>22</td>\n",
              "      <td>11</td>\n",
              "      <td>12</td>\n",
              "      <td>6</td>\n",
              "      <td>8</td>\n",
              "      <td>8</td>\n",
              "      <td>83+3</td>\n",
              "      <td>83+3</td>\n",
              "      <td>83+3</td>\n",
              "      <td>89+3</td>\n",
              "      <td>88+3</td>\n",
              "      <td>88+3</td>\n",
              "      <td>88+3</td>\n",
              "      <td>89+3</td>\n",
              "      <td>89+3</td>\n",
              "      <td>89+3</td>\n",
              "      <td>89+3</td>\n",
              "      <td>89+3</td>\n",
              "      <td>83+3</td>\n",
              "      <td>83+3</td>\n",
              "      <td>83+3</td>\n",
              "      <td>89+3</td>\n",
              "      <td>66+3</td>\n",
              "      <td>63+3</td>\n",
              "      <td>63+3</td>\n",
              "      <td>63+3</td>\n",
              "      <td>66+3</td>\n",
              "      <td>61+3</td>\n",
              "      <td>49+3</td>\n",
              "      <td>49+3</td>\n",
              "      <td>49+3</td>\n",
              "      <td>61+3</td>\n",
              "    </tr>\n",
              "  </tbody>\n",
              "</table>\n",
              "<p>5 rows × 104 columns</p>\n",
              "</div>"
            ],
            "text/plain": [
              "   sofifa_id                                         player_url  ...   rcb    rb\n",
              "0     158023  https://sofifa.com/player/158023/lionel-messi/...  ...  52+2  63+2\n",
              "1      20801  https://sofifa.com/player/20801/c-ronaldo-dos-...  ...  53+3  61+3\n",
              "2     190871  https://sofifa.com/player/190871/neymar-da-sil...  ...  46+3  61+3\n",
              "3     200389  https://sofifa.com/player/200389/jan-oblak/20/...  ...   NaN   NaN\n",
              "4     183277  https://sofifa.com/player/183277/eden-hazard/2...  ...  49+3  61+3\n",
              "\n",
              "[5 rows x 104 columns]"
            ]
          },
          "metadata": {
            "tags": []
          },
          "execution_count": 6
        }
      ]
    },
    {
      "cell_type": "code",
      "metadata": {
        "colab_type": "code",
        "outputId": "d5780445-14cd-44b2-f7b5-bb31e38011ce",
        "id": "uA7Oayr-D4cH",
        "colab": {
          "base_uri": "https://localhost:8080/",
          "height": 108
        }
      },
      "source": [
        "df.info()"
      ],
      "execution_count": 0,
      "outputs": [
        {
          "output_type": "stream",
          "text": [
            "<class 'pandas.core.frame.DataFrame'>\n",
            "RangeIndex: 18278 entries, 0 to 18277\n",
            "Columns: 104 entries, sofifa_id to rb\n",
            "dtypes: float64(16), int64(45), object(43)\n",
            "memory usage: 14.5+ MB\n"
          ],
          "name": "stdout"
        }
      ]
    },
    {
      "cell_type": "code",
      "metadata": {
        "id": "Udj91EEGexml",
        "colab_type": "code",
        "outputId": "fdc130e5-8247-4b7e-cb45-881deb4a148a",
        "colab": {
          "base_uri": "https://localhost:8080/",
          "height": 34
        }
      },
      "source": [
        "print(np.mean(df['height_cm']), np.median(df['height_cm']), np.mean(df['overall']), np.median(df['overall']))\n"
      ],
      "execution_count": 0,
      "outputs": [
        {
          "output_type": "stream",
          "text": [
            "181.36218404639456 181.0 66.24499398183609 66.0\n"
          ],
          "name": "stdout"
        }
      ]
    },
    {
      "cell_type": "code",
      "metadata": {
        "id": "fSOv8PyjfMv_",
        "colab_type": "code",
        "outputId": "1b3a5acf-801b-406c-8c4d-f0d00c325da3",
        "colab": {
          "base_uri": "https://localhost:8080/",
          "height": 34
        }
      },
      "source": [
        "\n",
        "percentiles = np.array([2.5, 25, 50, 75, 97.5])\n",
        "\n",
        "percentiles =  np.percentile(df['overall'], percentiles) \n",
        "\n",
        "print(percentiles)"
      ],
      "execution_count": 0,
      "outputs": [
        {
          "output_type": "stream",
          "text": [
            "[52. 62. 66. 71. 80.]\n"
          ],
          "name": "stdout"
        }
      ]
    },
    {
      "cell_type": "code",
      "metadata": {
        "id": "iG58worseLt-",
        "colab_type": "code",
        "colab": {}
      },
      "source": [
        "sns.set()"
      ],
      "execution_count": 0,
      "outputs": []
    },
    {
      "cell_type": "code",
      "metadata": {
        "id": "GHvCPpJKc_IG",
        "colab_type": "code",
        "outputId": "9e03d2e8-f5c3-4f68-9366-49d078eb91e9",
        "colab": {
          "base_uri": "https://localhost:8080/",
          "height": 302
        }
      },
      "source": [
        "_ =plt.hist(df['weight_kg'], bins=30)\n",
        "_ =plt.xlabel('weight kg')\n",
        "_ =plt.ylabel('total number of players')\n",
        "\n",
        "plt.show"
      ],
      "execution_count": 0,
      "outputs": [
        {
          "output_type": "execute_result",
          "data": {
            "text/plain": [
              "<function matplotlib.pyplot.show>"
            ]
          },
          "metadata": {
            "tags": []
          },
          "execution_count": 357
        },
        {
          "output_type": "display_data",
          "data": {
            "image/png": "[encoded data removed]",
            "text/plain": [
              "<Figure size 432x288 with 1 Axes>"
            ]
          },
          "metadata": {
            "tags": []
          }
        }
      ]
    },
    {
      "cell_type": "code",
      "metadata": {
        "id": "_mULcmRJd6qY",
        "colab_type": "code",
        "colab": {}
      },
      "source": [
        "\n",
        "\n",
        "BAR = df.loc[df['club'] == 'FC Barcelona']\n",
        "PSG = df.loc[df['club'] == 'Paris Saint-Germain']\n",
        "BOD = df.loc[df['club'] == 'Borussia Dortmund']\n",
        "\n",
        "fname = [BAR,PSG,BOD]\n",
        "result = pd.concat(fname)\n"
      ],
      "execution_count": 0,
      "outputs": []
    },
    {
      "cell_type": "code",
      "metadata": {
        "id": "MNuEy7UR2y62",
        "colab_type": "code",
        "colab": {}
      },
      "source": [
        "BOD"
      ],
      "execution_count": 0,
      "outputs": []
    },
    {
      "cell_type": "code",
      "metadata": {
        "id": "qXsXHdsNeUC_",
        "colab_type": "code",
        "outputId": "b033ab73-4d92-4944-803f-68a638fa38e6",
        "colab": {
          "base_uri": "https://localhost:8080/",
          "height": 285
        }
      },
      "source": [
        "_ = sns.swarmplot(x='club', y='overall', data=result)\n",
        "\n",
        "\n",
        "# Label the axes\n",
        "_ = plt.xlabel('club')\n",
        "_ = plt.ylabel('overall')\n",
        "\n",
        "\n",
        "# Show the plot\n",
        "plt.show()\n"
      ],
      "execution_count": 0,
      "outputs": [
        {
          "output_type": "display_data",
          "data": {
            "image/png": "[encoded data removed]",
            "text/plain": [
              "<Figure size 432x288 with 1 Axes>"
            ]
          },
          "metadata": {
            "tags": []
          }
        }
      ]
    },
    {
      "cell_type": "markdown",
      "metadata": {
        "id": "ksh0MbApeoHy",
        "colab_type": "text"
      },
      "source": [
        "Making an ECDF (Empirical distribution function)"
      ]
    },
    {
      "cell_type": "code",
      "metadata": {
        "id": "kqGYOKskecFP",
        "colab_type": "code",
        "outputId": "856877c1-7db6-4c75-b848-f3b87a611ec7",
        "colab": {
          "base_uri": "https://localhost:8080/",
          "height": 268
        }
      },
      "source": [
        "x = np.sort(df['height_cm'])\n",
        "y = np.arange(1, len(x)+1)/len(x)\n",
        "_ = plt.plot(x,y, marker='.', linestyle='none')"
      ],
      "execution_count": 0,
      "outputs": [
        {
          "output_type": "display_data",
          "data": {
            "image/png": "[encoded data removed]",
            "text/plain": [
              "<Figure size 432x288 with 1 Axes>"
            ]
          },
          "metadata": {
            "tags": []
          }
        }
      ]
    },
    {
      "cell_type": "code",
      "metadata": {
        "id": "4xss55zselFO",
        "colab_type": "code",
        "outputId": "b1af1ebf-9daa-457e-8848-dc09df130f8f",
        "colab": {
          "base_uri": "https://localhost:8080/",
          "height": 302
        }
      },
      "source": [
        "# Specify array of percentiles: percentiles\n",
        "percentiles = np.array([2.5, 25, 50, 75, 97.5])\n",
        "\n",
        "# Compute percentiles: ptiles_vers\n",
        "BAR_percentiles =  np.percentile(BAR['overall'], percentiles) \n",
        "\n",
        "\n",
        "# Print the result\n",
        "print(BAR_percentiles)\n",
        "\n",
        "\n",
        "# Plot the ECDF\n",
        "x_fifa = np.sort(df['overall'])\n",
        "y_fifa = np.arange(1, len(x)+1)/len(x)\n",
        "\n",
        "\n",
        "_ = plt.plot(x_fifa, y_fifa, '.')\n",
        "_ = plt.xlabel('overall')\n",
        "_ = plt.ylabel('ECDF')\n",
        "\n",
        "# Overlay percentiles as red diamonds.\n",
        "_ = plt.plot(BAR_percentiles, percentiles/100, marker='D', color='red',\n",
        "         linestyle='none')\n",
        "\n",
        "# Show the plot\n",
        "plt.show()"
      ],
      "execution_count": 0,
      "outputs": [
        {
          "output_type": "stream",
          "text": [
            "[64.8 70.  82.  86.  90.8]\n"
          ],
          "name": "stdout"
        },
        {
          "output_type": "display_data",
          "data": {
            "image/png": "[encoded data removed]",
            "text/plain": [
              "<Figure size 432x288 with 1 Axes>"
            ]
          },
          "metadata": {
            "tags": []
          }
        }
      ]
    },
    {
      "cell_type": "code",
      "metadata": {
        "id": "uq8n6YXOfgfT",
        "colab_type": "code",
        "outputId": "df64f929-0ed5-49c2-90aa-35f83890b3d4",
        "colab": {
          "base_uri": "https://localhost:8080/",
          "height": 285
        }
      },
      "source": [
        "# Create box plot with Seaborn's default settings\n",
        "_ = sns.boxplot(x='club', y='overall', data=result)\n",
        "\n",
        "# Label the axes\n",
        "_ = plt.xlabel('club')\n",
        "_ = plt.ylabel('player')\n",
        "\n",
        "\n",
        "# Show the plot\n",
        "plt.show()"
      ],
      "execution_count": 0,
      "outputs": [
        {
          "output_type": "display_data",
          "data": {
            "image/png": "[encoded data removed]",
            "text/plain": [
              "<Figure size 432x288 with 1 Axes>"
            ]
          },
          "metadata": {
            "tags": []
          }
        }
      ]
    },
    {
      "cell_type": "code",
      "metadata": {
        "id": "Ff26k03ogKCj",
        "colab_type": "code",
        "outputId": "20d186ae-3063-4a4c-801b-06c05d341e33",
        "colab": {
          "base_uri": "https://localhost:8080/",
          "height": 51
        }
      },
      "source": [
        "BAR_variance=np.var(BAR['overall'])\n",
        "PSG_variance=np.var(PSG['overall'])\n",
        "BOD_variance=np.var(BOD['overall'])\n",
        "\n",
        "\n",
        "print(BAR_variance,BOD_variance,PSG_variance)\n",
        "print(BAR_variance**0.5,BOD_variance**0.5,PSG_variance**0.5)"
      ],
      "execution_count": 0,
      "outputs": [
        {
          "output_type": "stream",
          "text": [
            "85.1404958677686 98.73465140478669 97.23415977961433\n",
            "9.227160769585009 9.936531155528407 9.860738297897086\n"
          ],
          "name": "stdout"
        }
      ]
    },
    {
      "cell_type": "code",
      "metadata": {
        "id": "3T70Ssw4ihnk",
        "colab_type": "code",
        "colab": {}
      },
      "source": [
        "result = result.loc[df['player_positions'] != 'GK']"
      ],
      "execution_count": 0,
      "outputs": []
    },
    {
      "cell_type": "code",
      "metadata": {
        "id": "p1fHJcZ75IQQ",
        "colab_type": "code",
        "colab": {}
      },
      "source": [
        "# Plot the mentality positioning versus dribbling\n",
        "_ = plt.plot(result['mentality_positioning'].values, result['dribbling'].values, marker='.', linestyle='none')\n",
        "\n",
        "\n",
        "_ = plt.xlabel('mentality_pos')\n",
        "_ = plt.ylabel('dribbling')"
      ],
      "execution_count": 0,
      "outputs": []
    },
    {
      "cell_type": "code",
      "metadata": {
        "id": "1P28xDEmgXzY",
        "colab_type": "code",
        "outputId": "56c5cc9e-27b2-491e-e19a-c9181cfba7ad",
        "colab": {
          "base_uri": "https://localhost:8080/",
          "height": 319
        }
      },
      "source": [
        "# Plot the mentality positioning versus dribbling\n",
        "_ = plt.plot(result['mentality_positioning'].values, result['dribbling'].values, marker='.', linestyle='none')\n",
        "\n",
        "\n",
        "_ = plt.xlabel('mentality_pos')\n",
        "_ = plt.ylabel('dribbling')\n",
        "\n",
        "# Perform a linear regression using np.polyfit(): a, b\n",
        "a, b = np.polyfit(result['mentality_positioning'].values,result['dribbling'].values,deg=1)\n",
        "\n",
        "# Print the results to the screen\n",
        "print('slope =', a, 'mentality_pos / percent dribbling')\n",
        "print('intercept =', b, 'mentality_pos')\n",
        "\n",
        "# Make theoretical line to plot\n",
        "\n",
        "x = np.array([0, 100])\n",
        "y = a * x + b\n",
        "\n",
        "# Add regression line to your plot\n",
        "_ = plt.plot(x, y)\n",
        "\n",
        "# Draw the plot\n",
        "plt.show()"
      ],
      "execution_count": 0,
      "outputs": [
        {
          "output_type": "stream",
          "text": [
            "slope = 0.5720854472892977 mentality_pos / percent dribbling\n",
            "intercept = 36.98338688961828 mentality_pos\n"
          ],
          "name": "stdout"
        },
        {
          "output_type": "display_data",
          "data": {
            "image/png": "[encoded data removed]",
            "text/plain": [
              "<Figure size 432x288 with 1 Axes>"
            ]
          },
          "metadata": {
            "tags": []
          }
        }
      ]
    },
    {
      "cell_type": "code",
      "metadata": {
        "id": "FsjLe71dgqnW",
        "colab_type": "code",
        "outputId": "f4be367f-ad9a-45fb-8f27-be51bd865ccc",
        "colab": {
          "base_uri": "https://localhost:8080/",
          "height": 34
        }
      },
      "source": [
        "def pearson_r(x, y):\n",
        "    corr_mat=np.corrcoef(x, y)\n",
        "\n",
        "    # Return entry [0,1]\n",
        "    return corr_mat[0,1]\n",
        "\n",
        "# Compute Pearson correlation coefficient for I. : r\n",
        "r=pearson_r(result['mentality_positioning'],result['dribbling'])\n",
        "\n",
        "# Print the result\n",
        "print(r)"
      ],
      "execution_count": 0,
      "outputs": [
        {
          "output_type": "stream",
          "text": [
            "0.8781468805832287\n"
          ],
          "name": "stdout"
        }
      ]
    },
    {
      "cell_type": "markdown",
      "metadata": {
        "id": "qYg2dfyal7Te",
        "colab_type": "text"
      },
      "source": [
        "## Definição: Variáveis aleatórias\n",
        "\n",
        "Consideremos um experimento e $ \\Omega $ o espaço amostral associado a esse experimento. Uma função X, que associa a cada elemento $ \\omega \\in \\Omega $ um número real, $ X(\\omega) $, é denominada variável aleatória (v.a.). Ou seja, variável aleatória é um característico numérico do resultado de um experimento.\n",
        "\n",
        "\n",
        "## Álgebra\n",
        "\n",
        "$ \\varnothing\\in\\mathcal{A} $;\n",
        "\n",
        "Se $ A,B\\in\\mathcal{A} $ então $ A\\cap B\\in\\mathcal{A} $.\n",
        "\n",
        "Se $ A\\in\\mathcal{A} $, então $ A^c\\in\\mathcal{A} $.\n",
        "\n",
        "\n",
        "## Variável Aleatótia Discreta\n",
        "\n",
        "Seja $ X $ uma variável aleatória (v.a.). Se o número de valores possíveis de $ X $ for enumerável (finito ou infinito), dizemos que $ X $ é uma variável aleatória discreta."
      ]
    },
    {
      "cell_type": "code",
      "metadata": {
        "id": "D6r3v4IZqZRW",
        "colab_type": "code",
        "outputId": "4cb0ad90-0115-45be-e127-a3c5c6f113bd",
        "colab": {
          "base_uri": "https://localhost:8080/",
          "height": 34
        }
      },
      "source": [
        "#prob de escolher um jogador brasi"
      ],
      "execution_count": 0,
      "outputs": [
        {
          "output_type": "execute_result",
          "data": {
            "text/plain": [
              "0.04508151876572929"
            ]
          },
          "metadata": {
            "tags": []
          },
          "execution_count": 367
        }
      ]
    },
    {
      "cell_type": "markdown",
      "metadata": {
        "colab_type": "text",
        "id": "IojRcMy_wmlC"
      },
      "source": [
        "## Variável Aleatótia Contínua\n",
        "\n",
        "Seja $ X $ uma variável aleatória. Suponha que o contradomínio ($ \\mathbb{R}_x $) de $ X $ seja um intervalo ou uma coleção de intervalos."
      ]
    },
    {
      "cell_type": "code",
      "metadata": {
        "id": "anghU_HDudEE",
        "colab_type": "code",
        "outputId": "4aa53c0c-e852-44c4-8ee7-ac7d8d40f7e4",
        "colab": {
          "base_uri": "https://localhost:8080/",
          "height": 370
        }
      },
      "source": [
        "_ =plt.hist(df['pace'], bins=150)\n",
        "_ =plt.xlabel('pace')\n",
        "_ =plt.ylabel('total number of players')\n",
        "\n",
        "plt.show"
      ],
      "execution_count": 0,
      "outputs": [
        {
          "output_type": "stream",
          "text": [
            "/usr/local/lib/python3.6/dist-packages/numpy/lib/histograms.py:839: RuntimeWarning: invalid value encountered in greater_equal\n",
            "  keep = (tmp_a >= first_edge)\n",
            "/usr/local/lib/python3.6/dist-packages/numpy/lib/histograms.py:840: RuntimeWarning: invalid value encountered in less_equal\n",
            "  keep &= (tmp_a <= last_edge)\n"
          ],
          "name": "stderr"
        },
        {
          "output_type": "execute_result",
          "data": {
            "text/plain": [
              "<function matplotlib.pyplot.show>"
            ]
          },
          "metadata": {
            "tags": []
          },
          "execution_count": 368
        },
        {
          "output_type": "display_data",
          "data": {
            "image/png": "[encoded data removed]",
            "text/plain": [
              "<Figure size 432x288 with 1 Axes>"
            ]
          },
          "metadata": {
            "tags": []
          }
        }
      ]
    },
    {
      "cell_type": "markdown",
      "metadata": {
        "id": "YZuNSjjXn726",
        "colab_type": "text"
      },
      "source": [
        "## Eventos independentes\n",
        "\n",
        "Dois eventos $ A $ e $ B $ são ditos independentes se\n",
        "\n",
        "\n",
        "$\\mathbb{P}(A\\cap B)=\\mathbb{P}(A) \\mathbb{P}(B).$\n",
        "\n"
      ]
    },
    {
      "cell_type": "markdown",
      "metadata": {
        "id": "viIT1KB_26me",
        "colab_type": "text"
      },
      "source": [
        "## Probabilidade Condicional\n",
        "\n",
        "Como para dois eventos quaisquer $ E $ e $ F $, a probabilidade condicional de $ E $ dado $ F $ é definida, desde que $ \\mathbb{P}(F)>\\ 0 $, por\n",
        "\n",
        "\n",
        "$\\mathbb{P}(E|F)=\\frac{\\mathbb{P}(E\\cap F)}{\\mathbb{P}(F)}$"
      ]
    },
    {
      "cell_type": "code",
      "metadata": {
        "id": "gdeVbCmq3SmT",
        "colab_type": "code",
        "outputId": "b531634c-0811-4a3b-ee05-0feb528d2c34",
        "colab": {
          "base_uri": "https://localhost:8080/",
          "height": 34
        }
      },
      "source": [
        "## Dado que um jogador escolhido ao acaso é Brasileiro e tem mais de 26 anos, qual a probabilidade de ele ser o Neymar?\n",
        "\n",
        "\n"
      ],
      "execution_count": 0,
      "outputs": [
        {
          "output_type": "execute_result",
          "data": {
            "text/plain": [
              "0.0017064846416382253"
            ]
          },
          "metadata": {
            "tags": []
          },
          "execution_count": 369
        }
      ]
    },
    {
      "cell_type": "markdown",
      "metadata": {
        "id": "vUNBAJqEkJ6q",
        "colab_type": "text"
      },
      "source": [
        "##Questão Hackathon\n",
        "\n",
        "Supondo que você tenha duas moedas, uma viciada que tem probabilidade de 3/4  de cair coroa e outra não viciada que tem probabilidade de 1/2 de cair coroa. Você pega uma delas aleatoriamente e joga duas vezes e consegue coroa nas duas vezes. Qual a probabilidade da moeda que você pegou ser a não viciada? "
      ]
    },
    {
      "cell_type": "markdown",
      "metadata": {
        "id": "bfFXx1tPi4lI",
        "colab_type": "text"
      },
      "source": [
        "##Teorema 1.4.3(Teorema de Bayes):\n",
        "\n",
        "Sejam $ A_1,A_2,\\ldots,A_n $ eventos que formam uma partição do espaço amostral, e assuma que $ \\mathbb{P}(A_i) > 0 $ para todo $ i $. Então, para qualquer evento $ B $ tal que $ \\mathbb{P}(B) > 0 $, temos que\n",
        "\n",
        "\n",
        "$\\mathbb{P}(A_i|B)=\\frac{\\mathbb{P}(A_i)\\mathbb{P}(B|A_i)}{\\mathbb{P}(B)}=\\frac{\\mathbb{P}(A_i)\\mathbb{P}(B|A_i)}{\\mathbb{P}(A_1)\\mathbb{P}(B|A_1)+\\ldots+\\mathbb{P}(A_n)\\mathbb{P}(B|A_n)}.\t$\n",
        " \n",
        "\n",
        "Para verificar o teorema de Bayes, basta notar que $ \\mathbb{P}(A_i)\\mathbb{P}(B|A_i) = \\mathbb{P}(B)\\mathbb{P}(A_i|B) $ já que ambos são iguais a $ \\mathbb{P}(A\\cap B) $, o que garante a primeira igualdade. A segunda igualdade segue da aplicação do teorema da probabilidade total para $ B $."
      ]
    },
    {
      "cell_type": "code",
      "metadata": {
        "id": "3dagNhF0ip9S",
        "colab_type": "code",
        "outputId": "40040443-5bc2-4a7d-b608-d2092e9763a1",
        "colab": {
          "base_uri": "https://localhost:8080/",
          "height": 34
        }
      },
      "source": [
        "# Considerando os Jogadores Ingleses e Belgas do dataset, qual a probabilidade de se escolher ingleses com valor de mercado maior que 4 000 000 de euros \n",
        "# e Belgas com salário maior que 50 000 euros?\n",
        "\n",
        "Omega_Belgium= (df['nationality'] == 'Belgium')\n",
        "Omega_England = (df['nationality'] == 'England')\n",
        "\n",
        "Omega_Belgium = df[Omega_Belgium]\n",
        "Omega_England = df[Omega_England]\n",
        "\n",
        "Omega_Belgium_Wage = np.sum(Omega_Belgium['wage_eur'] >= 50000)\n",
        "Omega_England_Value = np.sum(Omega_England['value_eur'] >= 4000000)\n",
        "\n",
        "Prob_Belgium_Wage = Omega_Belgium_Wage/len(Omega_Belgium)\n",
        "Prob_England_Value = Omega_England_Value/len(Omega_England)\n",
        "\n",
        "Prob_Belgium_Wage*Prob_England_Value\n",
        "\n"
      ],
      "execution_count": 0,
      "outputs": [
        {
          "output_type": "execute_result",
          "data": {
            "text/plain": [
              "0.008075996740950317"
            ]
          },
          "metadata": {
            "tags": []
          },
          "execution_count": 370
        }
      ]
    },
    {
      "cell_type": "code",
      "metadata": {
        "id": "_Ksx7-cFwYfF",
        "colab_type": "code",
        "outputId": "def7e930-f768-4aaf-f6fe-5af215d9c238",
        "colab": {
          "base_uri": "https://localhost:8080/",
          "height": 745
        }
      },
      "source": [
        "Omega_Belgium"
      ],
      "execution_count": 0,
      "outputs": [
        {
          "output_type": "execute_result",
          "data": {
            "text/html": [
              "<div>\n",
              "<style scoped>\n",
              "    .dataframe tbody tr th:only-of-type {\n",
              "        vertical-align: middle;\n",
              "    }\n",
              "\n",
              "    .dataframe tbody tr th {\n",
              "        vertical-align: top;\n",
              "    }\n",
              "\n",
              "    .dataframe thead th {\n",
              "        text-align: right;\n",
              "    }\n",
              "</style>\n",
              "<table border=\"1\" class=\"dataframe\">\n",
              "  <thead>\n",
              "    <tr style=\"text-align: right;\">\n",
              "      <th></th>\n",
              "      <th>sofifa_id</th>\n",
              "      <th>player_url</th>\n",
              "      <th>short_name</th>\n",
              "      <th>long_name</th>\n",
              "      <th>age</th>\n",
              "      <th>dob</th>\n",
              "      <th>height_cm</th>\n",
              "      <th>weight_kg</th>\n",
              "      <th>nationality</th>\n",
              "      <th>club</th>\n",
              "      <th>overall</th>\n",
              "      <th>potential</th>\n",
              "      <th>value_eur</th>\n",
              "      <th>wage_eur</th>\n",
              "      <th>player_positions</th>\n",
              "      <th>preferred_foot</th>\n",
              "      <th>international_reputation</th>\n",
              "      <th>weak_foot</th>\n",
              "      <th>skill_moves</th>\n",
              "      <th>work_rate</th>\n",
              "      <th>body_type</th>\n",
              "      <th>real_face</th>\n",
              "      <th>release_clause_eur</th>\n",
              "      <th>player_tags</th>\n",
              "      <th>team_position</th>\n",
              "      <th>team_jersey_number</th>\n",
              "      <th>loaned_from</th>\n",
              "      <th>joined</th>\n",
              "      <th>contract_valid_until</th>\n",
              "      <th>nation_position</th>\n",
              "      <th>nation_jersey_number</th>\n",
              "      <th>pace</th>\n",
              "      <th>shooting</th>\n",
              "      <th>passing</th>\n",
              "      <th>dribbling</th>\n",
              "      <th>defending</th>\n",
              "      <th>physic</th>\n",
              "      <th>gk_diving</th>\n",
              "      <th>gk_handling</th>\n",
              "      <th>gk_kicking</th>\n",
              "      <th>...</th>\n",
              "      <th>mentality_aggression</th>\n",
              "      <th>mentality_interceptions</th>\n",
              "      <th>mentality_positioning</th>\n",
              "      <th>mentality_vision</th>\n",
              "      <th>mentality_penalties</th>\n",
              "      <th>mentality_composure</th>\n",
              "      <th>defending_marking</th>\n",
              "      <th>defending_standing_tackle</th>\n",
              "      <th>defending_sliding_tackle</th>\n",
              "      <th>goalkeeping_diving</th>\n",
              "      <th>goalkeeping_handling</th>\n",
              "      <th>goalkeeping_kicking</th>\n",
              "      <th>goalkeeping_positioning</th>\n",
              "      <th>goalkeeping_reflexes</th>\n",
              "      <th>ls</th>\n",
              "      <th>st</th>\n",
              "      <th>rs</th>\n",
              "      <th>lw</th>\n",
              "      <th>lf</th>\n",
              "      <th>cf</th>\n",
              "      <th>rf</th>\n",
              "      <th>rw</th>\n",
              "      <th>lam</th>\n",
              "      <th>cam</th>\n",
              "      <th>ram</th>\n",
              "      <th>lm</th>\n",
              "      <th>lcm</th>\n",
              "      <th>cm</th>\n",
              "      <th>rcm</th>\n",
              "      <th>rm</th>\n",
              "      <th>lwb</th>\n",
              "      <th>ldm</th>\n",
              "      <th>cdm</th>\n",
              "      <th>rdm</th>\n",
              "      <th>rwb</th>\n",
              "      <th>lb</th>\n",
              "      <th>lcb</th>\n",
              "      <th>cb</th>\n",
              "      <th>rcb</th>\n",
              "      <th>rb</th>\n",
              "    </tr>\n",
              "  </thead>\n",
              "  <tbody>\n",
              "    <tr>\n",
              "      <th>4</th>\n",
              "      <td>183277</td>\n",
              "      <td>https://sofifa.com/player/183277/eden-hazard/2...</td>\n",
              "      <td>E. Hazard</td>\n",
              "      <td>Eden Hazard</td>\n",
              "      <td>28</td>\n",
              "      <td>1991-01-07</td>\n",
              "      <td>175</td>\n",
              "      <td>74</td>\n",
              "      <td>Belgium</td>\n",
              "      <td>Real Madrid</td>\n",
              "      <td>91</td>\n",
              "      <td>91</td>\n",
              "      <td>90000000</td>\n",
              "      <td>470000</td>\n",
              "      <td>LW, CF</td>\n",
              "      <td>Right</td>\n",
              "      <td>4</td>\n",
              "      <td>4</td>\n",
              "      <td>4</td>\n",
              "      <td>High/Medium</td>\n",
              "      <td>Normal</td>\n",
              "      <td>Yes</td>\n",
              "      <td>184500000.0</td>\n",
              "      <td>#Speedster, #Dribbler, #Acrobat</td>\n",
              "      <td>LW</td>\n",
              "      <td>7.0</td>\n",
              "      <td>NaN</td>\n",
              "      <td>2019-07-01</td>\n",
              "      <td>2024.0</td>\n",
              "      <td>LF</td>\n",
              "      <td>10.0</td>\n",
              "      <td>91.0</td>\n",
              "      <td>83.0</td>\n",
              "      <td>86.0</td>\n",
              "      <td>94.0</td>\n",
              "      <td>35.0</td>\n",
              "      <td>66.0</td>\n",
              "      <td>NaN</td>\n",
              "      <td>NaN</td>\n",
              "      <td>NaN</td>\n",
              "      <td>...</td>\n",
              "      <td>54</td>\n",
              "      <td>41</td>\n",
              "      <td>87</td>\n",
              "      <td>89</td>\n",
              "      <td>88</td>\n",
              "      <td>91</td>\n",
              "      <td>34</td>\n",
              "      <td>27</td>\n",
              "      <td>22</td>\n",
              "      <td>11</td>\n",
              "      <td>12</td>\n",
              "      <td>6</td>\n",
              "      <td>8</td>\n",
              "      <td>8</td>\n",
              "      <td>83+3</td>\n",
              "      <td>83+3</td>\n",
              "      <td>83+3</td>\n",
              "      <td>89+3</td>\n",
              "      <td>88+3</td>\n",
              "      <td>88+3</td>\n",
              "      <td>88+3</td>\n",
              "      <td>89+3</td>\n",
              "      <td>89+3</td>\n",
              "      <td>89+3</td>\n",
              "      <td>89+3</td>\n",
              "      <td>89+3</td>\n",
              "      <td>83+3</td>\n",
              "      <td>83+3</td>\n",
              "      <td>83+3</td>\n",
              "      <td>89+3</td>\n",
              "      <td>66+3</td>\n",
              "      <td>63+3</td>\n",
              "      <td>63+3</td>\n",
              "      <td>63+3</td>\n",
              "      <td>66+3</td>\n",
              "      <td>61+3</td>\n",
              "      <td>49+3</td>\n",
              "      <td>49+3</td>\n",
              "      <td>49+3</td>\n",
              "      <td>61+3</td>\n",
              "    </tr>\n",
              "    <tr>\n",
              "      <th>5</th>\n",
              "      <td>192985</td>\n",
              "      <td>https://sofifa.com/player/192985/kevin-de-bruy...</td>\n",
              "      <td>K. De Bruyne</td>\n",
              "      <td>Kevin De Bruyne</td>\n",
              "      <td>28</td>\n",
              "      <td>1991-06-28</td>\n",
              "      <td>181</td>\n",
              "      <td>70</td>\n",
              "      <td>Belgium</td>\n",
              "      <td>Manchester City</td>\n",
              "      <td>91</td>\n",
              "      <td>91</td>\n",
              "      <td>90000000</td>\n",
              "      <td>370000</td>\n",
              "      <td>CAM, CM</td>\n",
              "      <td>Right</td>\n",
              "      <td>4</td>\n",
              "      <td>5</td>\n",
              "      <td>4</td>\n",
              "      <td>High/High</td>\n",
              "      <td>Normal</td>\n",
              "      <td>Yes</td>\n",
              "      <td>166500000.0</td>\n",
              "      <td>#Dribbler, #Playmaker  , #Engine, #Distance Sh...</td>\n",
              "      <td>RCM</td>\n",
              "      <td>17.0</td>\n",
              "      <td>NaN</td>\n",
              "      <td>2015-08-30</td>\n",
              "      <td>2023.0</td>\n",
              "      <td>RCM</td>\n",
              "      <td>7.0</td>\n",
              "      <td>76.0</td>\n",
              "      <td>86.0</td>\n",
              "      <td>92.0</td>\n",
              "      <td>86.0</td>\n",
              "      <td>61.0</td>\n",
              "      <td>78.0</td>\n",
              "      <td>NaN</td>\n",
              "      <td>NaN</td>\n",
              "      <td>NaN</td>\n",
              "      <td>...</td>\n",
              "      <td>76</td>\n",
              "      <td>61</td>\n",
              "      <td>88</td>\n",
              "      <td>94</td>\n",
              "      <td>79</td>\n",
              "      <td>91</td>\n",
              "      <td>68</td>\n",
              "      <td>58</td>\n",
              "      <td>51</td>\n",
              "      <td>15</td>\n",
              "      <td>13</td>\n",
              "      <td>5</td>\n",
              "      <td>10</td>\n",
              "      <td>13</td>\n",
              "      <td>82+3</td>\n",
              "      <td>82+3</td>\n",
              "      <td>82+3</td>\n",
              "      <td>87+3</td>\n",
              "      <td>87+3</td>\n",
              "      <td>87+3</td>\n",
              "      <td>87+3</td>\n",
              "      <td>87+3</td>\n",
              "      <td>88+3</td>\n",
              "      <td>88+3</td>\n",
              "      <td>88+3</td>\n",
              "      <td>88+3</td>\n",
              "      <td>87+3</td>\n",
              "      <td>87+3</td>\n",
              "      <td>87+3</td>\n",
              "      <td>88+3</td>\n",
              "      <td>77+3</td>\n",
              "      <td>77+3</td>\n",
              "      <td>77+3</td>\n",
              "      <td>77+3</td>\n",
              "      <td>77+3</td>\n",
              "      <td>73+3</td>\n",
              "      <td>66+3</td>\n",
              "      <td>66+3</td>\n",
              "      <td>66+3</td>\n",
              "      <td>73+3</td>\n",
              "    </tr>\n",
              "    <tr>\n",
              "      <th>28</th>\n",
              "      <td>192119</td>\n",
              "      <td>https://sofifa.com/player/192119/thibaut-court...</td>\n",
              "      <td>T. Courtois</td>\n",
              "      <td>Thibaut Courtois</td>\n",
              "      <td>27</td>\n",
              "      <td>1992-05-11</td>\n",
              "      <td>199</td>\n",
              "      <td>96</td>\n",
              "      <td>Belgium</td>\n",
              "      <td>Real Madrid</td>\n",
              "      <td>88</td>\n",
              "      <td>89</td>\n",
              "      <td>48000000</td>\n",
              "      <td>235000</td>\n",
              "      <td>GK</td>\n",
              "      <td>Left</td>\n",
              "      <td>4</td>\n",
              "      <td>2</td>\n",
              "      <td>1</td>\n",
              "      <td>Medium/Medium</td>\n",
              "      <td>Courtois</td>\n",
              "      <td>Yes</td>\n",
              "      <td>102000000.0</td>\n",
              "      <td>NaN</td>\n",
              "      <td>GK</td>\n",
              "      <td>13.0</td>\n",
              "      <td>NaN</td>\n",
              "      <td>2018-08-09</td>\n",
              "      <td>2024.0</td>\n",
              "      <td>GK</td>\n",
              "      <td>1.0</td>\n",
              "      <td>NaN</td>\n",
              "      <td>NaN</td>\n",
              "      <td>NaN</td>\n",
              "      <td>NaN</td>\n",
              "      <td>NaN</td>\n",
              "      <td>NaN</td>\n",
              "      <td>85.0</td>\n",
              "      <td>89.0</td>\n",
              "      <td>72.0</td>\n",
              "      <td>...</td>\n",
              "      <td>23</td>\n",
              "      <td>15</td>\n",
              "      <td>13</td>\n",
              "      <td>44</td>\n",
              "      <td>27</td>\n",
              "      <td>66</td>\n",
              "      <td>20</td>\n",
              "      <td>18</td>\n",
              "      <td>16</td>\n",
              "      <td>85</td>\n",
              "      <td>89</td>\n",
              "      <td>72</td>\n",
              "      <td>85</td>\n",
              "      <td>87</td>\n",
              "      <td>NaN</td>\n",
              "      <td>NaN</td>\n",
              "      <td>NaN</td>\n",
              "      <td>NaN</td>\n",
              "      <td>NaN</td>\n",
              "      <td>NaN</td>\n",
              "      <td>NaN</td>\n",
              "      <td>NaN</td>\n",
              "      <td>NaN</td>\n",
              "      <td>NaN</td>\n",
              "      <td>NaN</td>\n",
              "      <td>NaN</td>\n",
              "      <td>NaN</td>\n",
              "      <td>NaN</td>\n",
              "      <td>NaN</td>\n",
              "      <td>NaN</td>\n",
              "      <td>NaN</td>\n",
              "      <td>NaN</td>\n",
              "      <td>NaN</td>\n",
              "      <td>NaN</td>\n",
              "      <td>NaN</td>\n",
              "      <td>NaN</td>\n",
              "      <td>NaN</td>\n",
              "      <td>NaN</td>\n",
              "      <td>NaN</td>\n",
              "      <td>NaN</td>\n",
              "    </tr>\n",
              "    <tr>\n",
              "      <th>47</th>\n",
              "      <td>172871</td>\n",
              "      <td>https://sofifa.com/player/172871/jan-vertonghe...</td>\n",
              "      <td>J. Vertonghen</td>\n",
              "      <td>Jan Vertonghen</td>\n",
              "      <td>32</td>\n",
              "      <td>1987-04-24</td>\n",
              "      <td>189</td>\n",
              "      <td>86</td>\n",
              "      <td>Belgium</td>\n",
              "      <td>Tottenham Hotspur</td>\n",
              "      <td>87</td>\n",
              "      <td>87</td>\n",
              "      <td>32500000</td>\n",
              "      <td>155000</td>\n",
              "      <td>CB</td>\n",
              "      <td>Left</td>\n",
              "      <td>3</td>\n",
              "      <td>3</td>\n",
              "      <td>3</td>\n",
              "      <td>High/High</td>\n",
              "      <td>Normal</td>\n",
              "      <td>Yes</td>\n",
              "      <td>60100000.0</td>\n",
              "      <td>#Tackling , #Tactician</td>\n",
              "      <td>LCB</td>\n",
              "      <td>5.0</td>\n",
              "      <td>NaN</td>\n",
              "      <td>2012-07-01</td>\n",
              "      <td>2020.0</td>\n",
              "      <td>LCB</td>\n",
              "      <td>5.0</td>\n",
              "      <td>63.0</td>\n",
              "      <td>63.0</td>\n",
              "      <td>74.0</td>\n",
              "      <td>72.0</td>\n",
              "      <td>87.0</td>\n",
              "      <td>79.0</td>\n",
              "      <td>NaN</td>\n",
              "      <td>NaN</td>\n",
              "      <td>NaN</td>\n",
              "      <td>...</td>\n",
              "      <td>84</td>\n",
              "      <td>89</td>\n",
              "      <td>56</td>\n",
              "      <td>68</td>\n",
              "      <td>66</td>\n",
              "      <td>84</td>\n",
              "      <td>89</td>\n",
              "      <td>87</td>\n",
              "      <td>88</td>\n",
              "      <td>6</td>\n",
              "      <td>10</td>\n",
              "      <td>9</td>\n",
              "      <td>12</td>\n",
              "      <td>7</td>\n",
              "      <td>69+3</td>\n",
              "      <td>69+3</td>\n",
              "      <td>69+3</td>\n",
              "      <td>68+3</td>\n",
              "      <td>69+3</td>\n",
              "      <td>69+3</td>\n",
              "      <td>69+3</td>\n",
              "      <td>68+3</td>\n",
              "      <td>70+3</td>\n",
              "      <td>70+3</td>\n",
              "      <td>70+3</td>\n",
              "      <td>70+3</td>\n",
              "      <td>74+3</td>\n",
              "      <td>74+3</td>\n",
              "      <td>74+3</td>\n",
              "      <td>70+3</td>\n",
              "      <td>79+3</td>\n",
              "      <td>82+3</td>\n",
              "      <td>82+3</td>\n",
              "      <td>82+3</td>\n",
              "      <td>79+3</td>\n",
              "      <td>80+3</td>\n",
              "      <td>84+3</td>\n",
              "      <td>84+3</td>\n",
              "      <td>84+3</td>\n",
              "      <td>80+3</td>\n",
              "    </tr>\n",
              "    <tr>\n",
              "      <th>48</th>\n",
              "      <td>175943</td>\n",
              "      <td>https://sofifa.com/player/175943/dries-mertens...</td>\n",
              "      <td>D. Mertens</td>\n",
              "      <td>Dries Mertens</td>\n",
              "      <td>32</td>\n",
              "      <td>1987-05-06</td>\n",
              "      <td>169</td>\n",
              "      <td>61</td>\n",
              "      <td>Belgium</td>\n",
              "      <td>Napoli</td>\n",
              "      <td>87</td>\n",
              "      <td>87</td>\n",
              "      <td>40000000</td>\n",
              "      <td>135000</td>\n",
              "      <td>CF, ST</td>\n",
              "      <td>Right</td>\n",
              "      <td>3</td>\n",
              "      <td>4</td>\n",
              "      <td>4</td>\n",
              "      <td>High/Low</td>\n",
              "      <td>Normal</td>\n",
              "      <td>Yes</td>\n",
              "      <td>68000000.0</td>\n",
              "      <td>#Dribbler, #Acrobat, #Clinical Finisher, #Comp...</td>\n",
              "      <td>SUB</td>\n",
              "      <td>14.0</td>\n",
              "      <td>NaN</td>\n",
              "      <td>2013-07-01</td>\n",
              "      <td>2020.0</td>\n",
              "      <td>RF</td>\n",
              "      <td>14.0</td>\n",
              "      <td>88.0</td>\n",
              "      <td>83.0</td>\n",
              "      <td>80.0</td>\n",
              "      <td>91.0</td>\n",
              "      <td>35.0</td>\n",
              "      <td>53.0</td>\n",
              "      <td>NaN</td>\n",
              "      <td>NaN</td>\n",
              "      <td>NaN</td>\n",
              "      <td>...</td>\n",
              "      <td>59</td>\n",
              "      <td>36</td>\n",
              "      <td>87</td>\n",
              "      <td>83</td>\n",
              "      <td>79</td>\n",
              "      <td>81</td>\n",
              "      <td>25</td>\n",
              "      <td>40</td>\n",
              "      <td>40</td>\n",
              "      <td>7</td>\n",
              "      <td>10</td>\n",
              "      <td>8</td>\n",
              "      <td>10</td>\n",
              "      <td>4</td>\n",
              "      <td>78+3</td>\n",
              "      <td>78+3</td>\n",
              "      <td>78+3</td>\n",
              "      <td>86+3</td>\n",
              "      <td>85+3</td>\n",
              "      <td>85+3</td>\n",
              "      <td>85+3</td>\n",
              "      <td>86+3</td>\n",
              "      <td>85+3</td>\n",
              "      <td>85+3</td>\n",
              "      <td>85+3</td>\n",
              "      <td>85+3</td>\n",
              "      <td>78+3</td>\n",
              "      <td>78+3</td>\n",
              "      <td>78+3</td>\n",
              "      <td>85+3</td>\n",
              "      <td>65+3</td>\n",
              "      <td>60+3</td>\n",
              "      <td>60+3</td>\n",
              "      <td>60+3</td>\n",
              "      <td>65+3</td>\n",
              "      <td>60+3</td>\n",
              "      <td>46+3</td>\n",
              "      <td>46+3</td>\n",
              "      <td>46+3</td>\n",
              "      <td>60+3</td>\n",
              "    </tr>\n",
              "    <tr>\n",
              "      <th>...</th>\n",
              "      <td>...</td>\n",
              "      <td>...</td>\n",
              "      <td>...</td>\n",
              "      <td>...</td>\n",
              "      <td>...</td>\n",
              "      <td>...</td>\n",
              "      <td>...</td>\n",
              "      <td>...</td>\n",
              "      <td>...</td>\n",
              "      <td>...</td>\n",
              "      <td>...</td>\n",
              "      <td>...</td>\n",
              "      <td>...</td>\n",
              "      <td>...</td>\n",
              "      <td>...</td>\n",
              "      <td>...</td>\n",
              "      <td>...</td>\n",
              "      <td>...</td>\n",
              "      <td>...</td>\n",
              "      <td>...</td>\n",
              "      <td>...</td>\n",
              "      <td>...</td>\n",
              "      <td>...</td>\n",
              "      <td>...</td>\n",
              "      <td>...</td>\n",
              "      <td>...</td>\n",
              "      <td>...</td>\n",
              "      <td>...</td>\n",
              "      <td>...</td>\n",
              "      <td>...</td>\n",
              "      <td>...</td>\n",
              "      <td>...</td>\n",
              "      <td>...</td>\n",
              "      <td>...</td>\n",
              "      <td>...</td>\n",
              "      <td>...</td>\n",
              "      <td>...</td>\n",
              "      <td>...</td>\n",
              "      <td>...</td>\n",
              "      <td>...</td>\n",
              "      <td>...</td>\n",
              "      <td>...</td>\n",
              "      <td>...</td>\n",
              "      <td>...</td>\n",
              "      <td>...</td>\n",
              "      <td>...</td>\n",
              "      <td>...</td>\n",
              "      <td>...</td>\n",
              "      <td>...</td>\n",
              "      <td>...</td>\n",
              "      <td>...</td>\n",
              "      <td>...</td>\n",
              "      <td>...</td>\n",
              "      <td>...</td>\n",
              "      <td>...</td>\n",
              "      <td>...</td>\n",
              "      <td>...</td>\n",
              "      <td>...</td>\n",
              "      <td>...</td>\n",
              "      <td>...</td>\n",
              "      <td>...</td>\n",
              "      <td>...</td>\n",
              "      <td>...</td>\n",
              "      <td>...</td>\n",
              "      <td>...</td>\n",
              "      <td>...</td>\n",
              "      <td>...</td>\n",
              "      <td>...</td>\n",
              "      <td>...</td>\n",
              "      <td>...</td>\n",
              "      <td>...</td>\n",
              "      <td>...</td>\n",
              "      <td>...</td>\n",
              "      <td>...</td>\n",
              "      <td>...</td>\n",
              "      <td>...</td>\n",
              "      <td>...</td>\n",
              "      <td>...</td>\n",
              "      <td>...</td>\n",
              "      <td>...</td>\n",
              "      <td>...</td>\n",
              "    </tr>\n",
              "    <tr>\n",
              "      <th>17233</th>\n",
              "      <td>248387</td>\n",
              "      <td>https://sofifa.com/player/248387/alexandre-ipp...</td>\n",
              "      <td>A. Ippolito</td>\n",
              "      <td>Alexandre Ippolito</td>\n",
              "      <td>20</td>\n",
              "      <td>1999-01-05</td>\n",
              "      <td>177</td>\n",
              "      <td>69</td>\n",
              "      <td>Belgium</td>\n",
              "      <td>Royal Excel Mouscron</td>\n",
              "      <td>55</td>\n",
              "      <td>66</td>\n",
              "      <td>140000</td>\n",
              "      <td>2000</td>\n",
              "      <td>ST</td>\n",
              "      <td>Right</td>\n",
              "      <td>1</td>\n",
              "      <td>3</td>\n",
              "      <td>2</td>\n",
              "      <td>Medium/Medium</td>\n",
              "      <td>Normal</td>\n",
              "      <td>No</td>\n",
              "      <td>231000.0</td>\n",
              "      <td>NaN</td>\n",
              "      <td>RES</td>\n",
              "      <td>27.0</td>\n",
              "      <td>NaN</td>\n",
              "      <td>2018-07-01</td>\n",
              "      <td>2022.0</td>\n",
              "      <td>NaN</td>\n",
              "      <td>NaN</td>\n",
              "      <td>71.0</td>\n",
              "      <td>57.0</td>\n",
              "      <td>44.0</td>\n",
              "      <td>60.0</td>\n",
              "      <td>18.0</td>\n",
              "      <td>43.0</td>\n",
              "      <td>NaN</td>\n",
              "      <td>NaN</td>\n",
              "      <td>NaN</td>\n",
              "      <td>...</td>\n",
              "      <td>28</td>\n",
              "      <td>10</td>\n",
              "      <td>46</td>\n",
              "      <td>47</td>\n",
              "      <td>59</td>\n",
              "      <td>50</td>\n",
              "      <td>15</td>\n",
              "      <td>19</td>\n",
              "      <td>16</td>\n",
              "      <td>12</td>\n",
              "      <td>14</td>\n",
              "      <td>8</td>\n",
              "      <td>6</td>\n",
              "      <td>13</td>\n",
              "      <td>53+2</td>\n",
              "      <td>53+2</td>\n",
              "      <td>53+2</td>\n",
              "      <td>54+2</td>\n",
              "      <td>54+2</td>\n",
              "      <td>54+2</td>\n",
              "      <td>54+2</td>\n",
              "      <td>54+2</td>\n",
              "      <td>53+2</td>\n",
              "      <td>53+2</td>\n",
              "      <td>53+2</td>\n",
              "      <td>51+2</td>\n",
              "      <td>44+2</td>\n",
              "      <td>44+2</td>\n",
              "      <td>44+2</td>\n",
              "      <td>51+2</td>\n",
              "      <td>36+2</td>\n",
              "      <td>32+2</td>\n",
              "      <td>32+2</td>\n",
              "      <td>32+2</td>\n",
              "      <td>36+2</td>\n",
              "      <td>34+2</td>\n",
              "      <td>29+2</td>\n",
              "      <td>29+2</td>\n",
              "      <td>29+2</td>\n",
              "      <td>34+2</td>\n",
              "    </tr>\n",
              "    <tr>\n",
              "      <th>17235</th>\n",
              "      <td>251911</td>\n",
              "      <td>https://sofifa.com/player/251911/mardochee-nzi...</td>\n",
              "      <td>M. Nzita</td>\n",
              "      <td>Mardochee Nzita</td>\n",
              "      <td>19</td>\n",
              "      <td>2000-02-24</td>\n",
              "      <td>178</td>\n",
              "      <td>70</td>\n",
              "      <td>Belgium</td>\n",
              "      <td>Perugia</td>\n",
              "      <td>55</td>\n",
              "      <td>66</td>\n",
              "      <td>120000</td>\n",
              "      <td>1000</td>\n",
              "      <td>LB</td>\n",
              "      <td>Left</td>\n",
              "      <td>1</td>\n",
              "      <td>2</td>\n",
              "      <td>2</td>\n",
              "      <td>Medium/Medium</td>\n",
              "      <td>Lean</td>\n",
              "      <td>No</td>\n",
              "      <td>216000.0</td>\n",
              "      <td>NaN</td>\n",
              "      <td>RES</td>\n",
              "      <td>3.0</td>\n",
              "      <td>NaN</td>\n",
              "      <td>2019-07-16</td>\n",
              "      <td>2022.0</td>\n",
              "      <td>NaN</td>\n",
              "      <td>NaN</td>\n",
              "      <td>64.0</td>\n",
              "      <td>28.0</td>\n",
              "      <td>40.0</td>\n",
              "      <td>50.0</td>\n",
              "      <td>55.0</td>\n",
              "      <td>51.0</td>\n",
              "      <td>NaN</td>\n",
              "      <td>NaN</td>\n",
              "      <td>NaN</td>\n",
              "      <td>...</td>\n",
              "      <td>48</td>\n",
              "      <td>55</td>\n",
              "      <td>50</td>\n",
              "      <td>36</td>\n",
              "      <td>41</td>\n",
              "      <td>46</td>\n",
              "      <td>52</td>\n",
              "      <td>62</td>\n",
              "      <td>58</td>\n",
              "      <td>7</td>\n",
              "      <td>11</td>\n",
              "      <td>10</td>\n",
              "      <td>7</td>\n",
              "      <td>5</td>\n",
              "      <td>41+2</td>\n",
              "      <td>41+2</td>\n",
              "      <td>41+2</td>\n",
              "      <td>45+2</td>\n",
              "      <td>43+2</td>\n",
              "      <td>43+2</td>\n",
              "      <td>43+2</td>\n",
              "      <td>45+2</td>\n",
              "      <td>43+2</td>\n",
              "      <td>43+2</td>\n",
              "      <td>43+2</td>\n",
              "      <td>46+2</td>\n",
              "      <td>43+2</td>\n",
              "      <td>43+2</td>\n",
              "      <td>43+2</td>\n",
              "      <td>46+2</td>\n",
              "      <td>52+2</td>\n",
              "      <td>48+2</td>\n",
              "      <td>48+2</td>\n",
              "      <td>48+2</td>\n",
              "      <td>52+2</td>\n",
              "      <td>53+2</td>\n",
              "      <td>52+2</td>\n",
              "      <td>52+2</td>\n",
              "      <td>52+2</td>\n",
              "      <td>53+2</td>\n",
              "    </tr>\n",
              "    <tr>\n",
              "      <th>17600</th>\n",
              "      <td>252160</td>\n",
              "      <td>https://sofifa.com/player/252160/maxim-deman/2...</td>\n",
              "      <td>M. Deman</td>\n",
              "      <td>Maxim Deman</td>\n",
              "      <td>17</td>\n",
              "      <td>2001-10-23</td>\n",
              "      <td>194</td>\n",
              "      <td>82</td>\n",
              "      <td>Belgium</td>\n",
              "      <td>KV Kortrijk</td>\n",
              "      <td>53</td>\n",
              "      <td>73</td>\n",
              "      <td>100000</td>\n",
              "      <td>1000</td>\n",
              "      <td>GK</td>\n",
              "      <td>Right</td>\n",
              "      <td>1</td>\n",
              "      <td>3</td>\n",
              "      <td>1</td>\n",
              "      <td>Medium/Medium</td>\n",
              "      <td>Lean</td>\n",
              "      <td>No</td>\n",
              "      <td>250000.0</td>\n",
              "      <td>NaN</td>\n",
              "      <td>SUB</td>\n",
              "      <td>16.0</td>\n",
              "      <td>NaN</td>\n",
              "      <td>2019-07-01</td>\n",
              "      <td>2023.0</td>\n",
              "      <td>NaN</td>\n",
              "      <td>NaN</td>\n",
              "      <td>NaN</td>\n",
              "      <td>NaN</td>\n",
              "      <td>NaN</td>\n",
              "      <td>NaN</td>\n",
              "      <td>NaN</td>\n",
              "      <td>NaN</td>\n",
              "      <td>59.0</td>\n",
              "      <td>52.0</td>\n",
              "      <td>55.0</td>\n",
              "      <td>...</td>\n",
              "      <td>20</td>\n",
              "      <td>12</td>\n",
              "      <td>6</td>\n",
              "      <td>32</td>\n",
              "      <td>15</td>\n",
              "      <td>28</td>\n",
              "      <td>7</td>\n",
              "      <td>11</td>\n",
              "      <td>10</td>\n",
              "      <td>59</td>\n",
              "      <td>52</td>\n",
              "      <td>55</td>\n",
              "      <td>48</td>\n",
              "      <td>52</td>\n",
              "      <td>NaN</td>\n",
              "      <td>NaN</td>\n",
              "      <td>NaN</td>\n",
              "      <td>NaN</td>\n",
              "      <td>NaN</td>\n",
              "      <td>NaN</td>\n",
              "      <td>NaN</td>\n",
              "      <td>NaN</td>\n",
              "      <td>NaN</td>\n",
              "      <td>NaN</td>\n",
              "      <td>NaN</td>\n",
              "      <td>NaN</td>\n",
              "      <td>NaN</td>\n",
              "      <td>NaN</td>\n",
              "      <td>NaN</td>\n",
              "      <td>NaN</td>\n",
              "      <td>NaN</td>\n",
              "      <td>NaN</td>\n",
              "      <td>NaN</td>\n",
              "      <td>NaN</td>\n",
              "      <td>NaN</td>\n",
              "      <td>NaN</td>\n",
              "      <td>NaN</td>\n",
              "      <td>NaN</td>\n",
              "      <td>NaN</td>\n",
              "      <td>NaN</td>\n",
              "    </tr>\n",
              "    <tr>\n",
              "      <th>17684</th>\n",
              "      <td>252337</td>\n",
              "      <td>https://sofifa.com/player/252337/siebren-latho...</td>\n",
              "      <td>S. Lathouwers</td>\n",
              "      <td>Siebren Lathouwers</td>\n",
              "      <td>18</td>\n",
              "      <td>2000-08-11</td>\n",
              "      <td>183</td>\n",
              "      <td>70</td>\n",
              "      <td>Belgium</td>\n",
              "      <td>Sint-Truidense VV</td>\n",
              "      <td>53</td>\n",
              "      <td>67</td>\n",
              "      <td>110000</td>\n",
              "      <td>1000</td>\n",
              "      <td>RB, LB, CDM</td>\n",
              "      <td>Right</td>\n",
              "      <td>1</td>\n",
              "      <td>3</td>\n",
              "      <td>2</td>\n",
              "      <td>Medium/Medium</td>\n",
              "      <td>Lean</td>\n",
              "      <td>No</td>\n",
              "      <td>228000.0</td>\n",
              "      <td>NaN</td>\n",
              "      <td>RES</td>\n",
              "      <td>31.0</td>\n",
              "      <td>NaN</td>\n",
              "      <td>2019-07-01</td>\n",
              "      <td>2021.0</td>\n",
              "      <td>NaN</td>\n",
              "      <td>NaN</td>\n",
              "      <td>64.0</td>\n",
              "      <td>29.0</td>\n",
              "      <td>33.0</td>\n",
              "      <td>52.0</td>\n",
              "      <td>51.0</td>\n",
              "      <td>52.0</td>\n",
              "      <td>NaN</td>\n",
              "      <td>NaN</td>\n",
              "      <td>NaN</td>\n",
              "      <td>...</td>\n",
              "      <td>51</td>\n",
              "      <td>53</td>\n",
              "      <td>49</td>\n",
              "      <td>37</td>\n",
              "      <td>33</td>\n",
              "      <td>47</td>\n",
              "      <td>47</td>\n",
              "      <td>55</td>\n",
              "      <td>60</td>\n",
              "      <td>6</td>\n",
              "      <td>14</td>\n",
              "      <td>15</td>\n",
              "      <td>14</td>\n",
              "      <td>14</td>\n",
              "      <td>41+2</td>\n",
              "      <td>41+2</td>\n",
              "      <td>41+2</td>\n",
              "      <td>45+2</td>\n",
              "      <td>43+2</td>\n",
              "      <td>43+2</td>\n",
              "      <td>43+2</td>\n",
              "      <td>45+2</td>\n",
              "      <td>41+2</td>\n",
              "      <td>41+2</td>\n",
              "      <td>41+2</td>\n",
              "      <td>45+2</td>\n",
              "      <td>40+2</td>\n",
              "      <td>40+2</td>\n",
              "      <td>40+2</td>\n",
              "      <td>45+2</td>\n",
              "      <td>50+2</td>\n",
              "      <td>44+2</td>\n",
              "      <td>44+2</td>\n",
              "      <td>44+2</td>\n",
              "      <td>50+2</td>\n",
              "      <td>51+2</td>\n",
              "      <td>49+2</td>\n",
              "      <td>49+2</td>\n",
              "      <td>49+2</td>\n",
              "      <td>51+2</td>\n",
              "    </tr>\n",
              "    <tr>\n",
              "      <th>17846</th>\n",
              "      <td>251904</td>\n",
              "      <td>https://sofifa.com/player/251904/jordi-schelfh...</td>\n",
              "      <td>J. Schelfhout</td>\n",
              "      <td>Jordi Schelfhout</td>\n",
              "      <td>18</td>\n",
              "      <td>2001-01-01</td>\n",
              "      <td>185</td>\n",
              "      <td>70</td>\n",
              "      <td>Belgium</td>\n",
              "      <td>KV Oostende</td>\n",
              "      <td>52</td>\n",
              "      <td>68</td>\n",
              "      <td>90000</td>\n",
              "      <td>1000</td>\n",
              "      <td>GK</td>\n",
              "      <td>Left</td>\n",
              "      <td>1</td>\n",
              "      <td>3</td>\n",
              "      <td>1</td>\n",
              "      <td>Medium/Medium</td>\n",
              "      <td>Normal</td>\n",
              "      <td>No</td>\n",
              "      <td>191000.0</td>\n",
              "      <td>NaN</td>\n",
              "      <td>RES</td>\n",
              "      <td>94.0</td>\n",
              "      <td>NaN</td>\n",
              "      <td>2019-07-01</td>\n",
              "      <td>2022.0</td>\n",
              "      <td>NaN</td>\n",
              "      <td>NaN</td>\n",
              "      <td>NaN</td>\n",
              "      <td>NaN</td>\n",
              "      <td>NaN</td>\n",
              "      <td>NaN</td>\n",
              "      <td>NaN</td>\n",
              "      <td>NaN</td>\n",
              "      <td>57.0</td>\n",
              "      <td>51.0</td>\n",
              "      <td>54.0</td>\n",
              "      <td>...</td>\n",
              "      <td>23</td>\n",
              "      <td>14</td>\n",
              "      <td>8</td>\n",
              "      <td>35</td>\n",
              "      <td>15</td>\n",
              "      <td>35</td>\n",
              "      <td>6</td>\n",
              "      <td>14</td>\n",
              "      <td>11</td>\n",
              "      <td>57</td>\n",
              "      <td>51</td>\n",
              "      <td>54</td>\n",
              "      <td>41</td>\n",
              "      <td>58</td>\n",
              "      <td>NaN</td>\n",
              "      <td>NaN</td>\n",
              "      <td>NaN</td>\n",
              "      <td>NaN</td>\n",
              "      <td>NaN</td>\n",
              "      <td>NaN</td>\n",
              "      <td>NaN</td>\n",
              "      <td>NaN</td>\n",
              "      <td>NaN</td>\n",
              "      <td>NaN</td>\n",
              "      <td>NaN</td>\n",
              "      <td>NaN</td>\n",
              "      <td>NaN</td>\n",
              "      <td>NaN</td>\n",
              "      <td>NaN</td>\n",
              "      <td>NaN</td>\n",
              "      <td>NaN</td>\n",
              "      <td>NaN</td>\n",
              "      <td>NaN</td>\n",
              "      <td>NaN</td>\n",
              "      <td>NaN</td>\n",
              "      <td>NaN</td>\n",
              "      <td>NaN</td>\n",
              "      <td>NaN</td>\n",
              "      <td>NaN</td>\n",
              "      <td>NaN</td>\n",
              "    </tr>\n",
              "  </tbody>\n",
              "</table>\n",
              "<p>268 rows × 104 columns</p>\n",
              "</div>"
            ],
            "text/plain": [
              "       sofifa_id                                         player_url  ...   rcb    rb\n",
              "4         183277  https://sofifa.com/player/183277/eden-hazard/2...  ...  49+3  61+3\n",
              "5         192985  https://sofifa.com/player/192985/kevin-de-bruy...  ...  66+3  73+3\n",
              "28        192119  https://sofifa.com/player/192119/thibaut-court...  ...   NaN   NaN\n",
              "47        172871  https://sofifa.com/player/172871/jan-vertonghe...  ...  84+3  80+3\n",
              "48        175943  https://sofifa.com/player/175943/dries-mertens...  ...  46+3  60+3\n",
              "...          ...                                                ...  ...   ...   ...\n",
              "17233     248387  https://sofifa.com/player/248387/alexandre-ipp...  ...  29+2  34+2\n",
              "17235     251911  https://sofifa.com/player/251911/mardochee-nzi...  ...  52+2  53+2\n",
              "17600     252160  https://sofifa.com/player/252160/maxim-deman/2...  ...   NaN   NaN\n",
              "17684     252337  https://sofifa.com/player/252337/siebren-latho...  ...  49+2  51+2\n",
              "17846     251904  https://sofifa.com/player/251904/jordi-schelfh...  ...   NaN   NaN\n",
              "\n",
              "[268 rows x 104 columns]"
            ]
          },
          "metadata": {
            "tags": []
          },
          "execution_count": 371
        }
      ]
    },
    {
      "cell_type": "markdown",
      "metadata": {
        "id": "3tL1DnlBlnWE",
        "colab_type": "text"
      },
      "source": [
        "## Ensaios de Bernoulli\n",
        "\n",
        "Em cada ensaio considera-se somente a ocorrência ou não-ocorrência de um certo evento que será denominado sucesso (S) e cuja não-ocorrência será denominada falha (F).\n",
        "\n",
        "Os ensaios são independentes.\n",
        "\n",
        "A probabilidade de sucesso, que denotaremos por p é a mesma para cada ensaio. A probabilidade de falha será denotada por 1-p.\n",
        "\n",
        "A probabilidade de um ponto amostral com sucessos nos $ k $ primeiros ensaios e falhas nos $ n-k $ ensaios seguintes é $ p^k(1-p)^{n-k}. $\n",
        "\n"
      ]
    },
    {
      "cell_type": "markdown",
      "metadata": {
        "id": "nYzEh_ARlJ8x",
        "colab_type": "text"
      },
      "source": [
        "## Distribuição Binomial\n",
        "\n",
        "\n",
        "Seja $ X $ o número de sucessos obtidos na realização de $ n $ ensaios de Bernoulli independentes. Diremos que $ X $ tem distribuição binomial com parâmetros $ n $ e $ p $, em que $ p $ é a probabilidade de sucesso em cada ensaio, se sua função de probabilidade for dada por\n",
        "\n",
        "\n",
        "$p(x) = \\mathbb{P}[X=k]=\\left(\\begin{array}{c}n\\\\k\\end{array}\\right) p^k(1-p)^{n-k}.$\n",
        "\n"
      ]
    },
    {
      "cell_type": "code",
      "metadata": {
        "id": "ExvZE_jzkMHk",
        "colab_type": "code",
        "colab": {}
      },
      "source": [
        "# Considerando os Jogadores Brasileiros e Fanceses do dataset, qual a probabilidade de se escolher 2 em 11 jogadores com overall acima de 83 para cada pais?"
      ],
      "execution_count": 0,
      "outputs": []
    },
    {
      "cell_type": "code",
      "metadata": {
        "id": "FGmb6IsxlJYG",
        "colab_type": "code",
        "outputId": "c6e3611a-b58d-496f-e002-014513803c4a",
        "colab": {
          "base_uri": "https://localhost:8080/",
          "height": 51
        }
      },
      "source": [
        "\n",
        "\n",
        "Omega_Brazil = (df['nationality'] == 'Brazil')\n",
        "Omega_France = (df['nationality'] == 'France')\n",
        "\n",
        "Omega_France = df[Omega_France]\n",
        "Omega_Brazil = df[Omega_Brazil]\n",
        "\n",
        "Event_Brazil = np.sum(Omega_Brazil['overall'] >= 83)\n",
        "Event_France = np.sum(Omega_France['overall'] >= 83)\n",
        "    \n",
        "probability_of_1_brazilian = Event_Brazil/len(Omega_Brazil)\n",
        "probability_of_1_french = Event_France/len(Omega_France)\n",
        "\n",
        "\n",
        "print(probability_of_1_brazilian,probability_of_1_french)\n",
        "\n",
        "binomial_brazil = binom.pmf(2,11,probability_of_1_brazilian)\n",
        "binomial_france = binom.pmf(2,11,probability_of_1_french)\n",
        "\n",
        "print(binomial_brazil,binomial_france)\n"
      ],
      "execution_count": 0,
      "outputs": [
        {
          "output_type": "stream",
          "text": [
            "0.03519417475728155 0.02540650406504065\n",
            "0.04934731351799295 0.028162038549074488\n"
          ],
          "name": "stdout"
        }
      ]
    },
    {
      "cell_type": "code",
      "metadata": {
        "id": "N7FQahu1ZTzj",
        "colab_type": "code",
        "outputId": "d349e1e6-8477-496f-f74d-02aee88b74cf",
        "colab": {
          "base_uri": "https://localhost:8080/",
          "height": 319
        }
      },
      "source": [
        "\n",
        "Event_Brazil = np.sum(Omega_Brazil['height_cm'] <= 192)\n",
        "\n",
        "probability_of_1_brazilian = Event_Brazil/len(Omega_Brazil)\n",
        "\n",
        "print(probability_of_1_brazilian)\n",
        "\n",
        "n = 50\n",
        "\n",
        "x = range(0,n+1) # valores de x =0,1,2,3 ou 4\n",
        "\n",
        "p = binom.pmf(n,50,probability_of_1_brazilian)\n",
        "\n",
        "p_x = binom.pmf(x,n,p) #distribuição dos resultados\n",
        " \n",
        "p_x\n",
        "\n",
        "plt.xlabel('x')\n",
        "plt.ylabel('p_x')\n",
        "\n",
        "plt.plot(p_x)\n",
        "plt.show"
      ],
      "execution_count": 0,
      "outputs": [
        {
          "output_type": "stream",
          "text": [
            "0.9720873786407767\n"
          ],
          "name": "stdout"
        },
        {
          "output_type": "execute_result",
          "data": {
            "text/plain": [
              "<function matplotlib.pyplot.show>"
            ]
          },
          "metadata": {
            "tags": []
          },
          "execution_count": 374
        },
        {
          "output_type": "display_data",
          "data": {
            "image/png": "[encoded data removed]",
            "text/plain": [
              "<Figure size 432x288 with 1 Axes>"
            ]
          },
          "metadata": {
            "tags": []
          }
        }
      ]
    },
    {
      "cell_type": "markdown",
      "metadata": {
        "id": "IQvcxv4MX-uG",
        "colab_type": "text"
      },
      "source": [
        "## Distribuição Normal e Intervalo de Confiaça\n",
        "\n",
        "\n",
        "Uma variável aleatória contínua $ X $ tem distribuição Normal se sua função densidade de probabilidade for dada por:\n",
        "\n",
        "\n",
        "$f(x)=\\frac{1}{\\sqrt{2\\pi\\sigma^2}}\\exp\\left[-\\frac{1}{2}\\left(\\frac{x-\\mu}{\\sigma}\\right)^2\\right], \\quad x\\in(-\\infty,\\infty).\t$\n",
        " \n",
        "\n",
        "Usamos a notação $ X\\sim N(\\mu,\\sigma^2). $"
      ]
    },
    {
      "cell_type": "markdown",
      "metadata": {
        "id": "tioX-8aOfFvl",
        "colab_type": "text"
      },
      "source": [
        "![alt text](https://www.portalaction.com.br/sites/default/files/EstatisticaBasica/figuras/distribuicaoNormal/normal3.PNG)"
      ]
    },
    {
      "cell_type": "code",
      "metadata": {
        "id": "Q6OsTAejeMZX",
        "colab_type": "code",
        "outputId": "5d1fe631-0723-4cf8-9a46-e86c530caf4d",
        "colab": {
          "base_uri": "https://localhost:8080/",
          "height": 319
        }
      },
      "source": [
        "## Achar um intervalo de confianca usando (age)\n",
        "\n",
        "_ =plt.hist(df['potential'], bins=23)\n",
        "_ =plt.xlabel('potential')\n",
        "_ =plt.ylabel('total number of players')\n",
        "\n",
        "plt.show\n",
        "\n",
        "print(df['potential'].mean())\n",
        "print((df['potential'].var())**(0.5))\n"
      ],
      "execution_count": 0,
      "outputs": [
        {
          "output_type": "stream",
          "text": [
            "71.5468869679396\n",
            "6.139669074956248\n"
          ],
          "name": "stdout"
        },
        {
          "output_type": "display_data",
          "data": {
            "image/png": "[encoded data removed]",
            "text/plain": [
              "<Figure size 432x288 with 1 Axes>"
            ]
          },
          "metadata": {
            "tags": []
          }
        }
      ]
    },
    {
      "cell_type": "code",
      "metadata": {
        "id": "3SUGUhXNCfXU",
        "colab_type": "code",
        "outputId": "95aa83e9-ab2a-46ac-f20b-333e74196822",
        "colab": {
          "base_uri": "https://localhost:8080/",
          "height": 85
        }
      },
      "source": [
        "conjunto = 1.0*np.array(df['potential'])\n",
        "              \n",
        "print(conjunto)                                                           \n",
        "\n",
        "#calcular a matriz média                                               \n",
        "media = conjunto.mean(axis=0)                                             \n",
        "print('media:{}'.format(media))                                            \n",
        "\n",
        "desvio_padrao = np.std(conjunto)                                          \n",
        "conf_int = scipy.stats.norm.interval(0.99, loc=media, scale=desvio_padrao) \n",
        "print(\"intervalo de confiança: \")\n",
        "print(conf_int)\n",
        "\n",
        "\n"
      ],
      "execution_count": 0,
      "outputs": [
        {
          "output_type": "stream",
          "text": [
            "[94. 93. 92. ... 56. 54. 51.]\n",
            "media:71.5468869679396\n",
            "intervalo de confiança: \n",
            "(55.73258007328557, 87.36119386259362)\n"
          ],
          "name": "stdout"
        }
      ]
    },
    {
      "cell_type": "markdown",
      "metadata": {
        "id": "MQX3LhihGkxt",
        "colab_type": "text"
      },
      "source": [
        ""
      ]
    },
    {
      "cell_type": "code",
      "metadata": {
        "id": "rT_pRS_l3H5_",
        "colab_type": "code",
        "outputId": "56bf66b5-b6d6-4f2d-a648-99b27cf5f840",
        "colab": {
          "base_uri": "https://localhost:8080/",
          "height": 302
        }
      },
      "source": [
        "_ =plt.hist(df['age'], bins=25)\n",
        "_ =plt.xlabel('age')\n",
        "_ =plt.ylabel('total number of players')\n",
        "\n",
        "plt.show"
      ],
      "execution_count": 0,
      "outputs": [
        {
          "output_type": "execute_result",
          "data": {
            "text/plain": [
              "<function matplotlib.pyplot.show>"
            ]
          },
          "metadata": {
            "tags": []
          },
          "execution_count": 377
        },
        {
          "output_type": "display_data",
          "data": {
            "image/png": "[encoded data removed]",
            "text/plain": [
              "<Figure size 432x288 with 1 Axes>"
            ]
          },
          "metadata": {
            "tags": []
          }
        }
      ]
    },
    {
      "cell_type": "code",
      "metadata": {
        "id": "1_tji7fR_3fa",
        "colab_type": "code",
        "outputId": "a45668c1-ca4e-4261-c2d0-4c9a32bb937f",
        "colab": {
          "base_uri": "https://localhost:8080/",
          "height": 85
        }
      },
      "source": [
        "conjunto = 1.0*np.array(df['age'])\n",
        "              \n",
        "print(conjunto)                                                           \n",
        "\n",
        "#calcular a matriz média                                               \n",
        "media = conjunto.mean(axis=0)                                             \n",
        "print('media:{}'.format(media))                                            \n",
        "\n",
        "desvio_padrao = np.std(conjunto)                                          \n",
        "conf_int = scipy.stats.norm.interval(0.99, loc=media, scale=desvio_padrao) \n",
        "print(\"intervalo de confiança: \")\n",
        "print(conf_int)"
      ],
      "execution_count": 0,
      "outputs": [
        {
          "output_type": "stream",
          "text": [
            "[32. 34. 27. ... 19. 18. 26.]\n",
            "media:25.283291388554545\n",
            "intervalo de confiança: \n",
            "(13.288073915601162, 37.27850886150793)\n"
          ],
          "name": "stdout"
        }
      ]
    },
    {
      "cell_type": "markdown",
      "metadata": {
        "id": "6OKyY5UL5Nt1",
        "colab_type": "text"
      },
      "source": [
        "## Avaliação\n",
        "\n",
        "Quem foi o melhor de jogador de Basket de todos os tempos? LeBron James, Michael Jordan ou Kobe Bryant?\n",
        "\n",
        "Pelo menos 11 evidências com explicações claras, gráficos, estatísticas, modelos, distribuições probabilísticas, etc.  O trabalho deverá ser feito em um jupyter notebook. Será necessário colocar a fonte dos datasets utilizados para cada evidência. A qualidade do trabalhos será determinada a partir da apresentação, argumentação, criatividade, conhecimento, esforço, pesquisa e originalidade.\n",
        "\n",
        "\n",
        "Ps: Quem copiar, terá a nota zerada."
      ]
    },
    {
      "cell_type": "code",
      "metadata": {
        "id": "fLAWioVr5Ur5",
        "colab_type": "code",
        "colab": {}
      },
      "source": [
        ""
      ],
      "execution_count": 0,
      "outputs": []
    }
  ]
}